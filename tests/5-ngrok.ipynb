{
 "cells": [
  {
   "cell_type": "markdown",
   "source": [
    "# 웹서비스 준비\n",
    "\n",
    "`ngrok`은 로컬에서 실행 중인 웹서비스를 안전하게 외부에서 접근 가능하도록 해주는 도구입니다.\n",
    "1. 가입: [https://dashboard.ngrok.com/signup](https://dashboard.ngrok.com/signup)\n",
    "2. 접속: [https://dashboard.ngrok.com/login](https://dashboard.ngrok.com/login)\n",
    "3. 확인: [https://dashboard.ngrok.com/get-started/your-authtoken](https://dashboard.ngrok.com/get-started/your-authtoken)"
   ],
   "metadata": {
    "collapsed": false
   }
  },
  {
   "cell_type": "code",
   "execution_count": 1,
   "outputs": [
    {
     "name": "stdout",
     "output_type": "stream",
     "text": [
      "Requirement already satisfied: chrisbase in /Users/chris/proj/DeepKorean-23.03/chrisbase/src (0.2.1)\r\n",
      "Requirement already satisfied: typer in /Users/chris/mambaforge/envs/DeepKorean-23.03/lib/python3.10/site-packages (from chrisbase) (0.7.0)\r\n",
      "Requirement already satisfied: pandas in /Users/chris/mambaforge/envs/DeepKorean-23.03/lib/python3.10/site-packages (from chrisbase) (1.5.3)\r\n",
      "Requirement already satisfied: tabulate in /Users/chris/mambaforge/envs/DeepKorean-23.03/lib/python3.10/site-packages (from chrisbase) (0.9.0)\r\n",
      "Requirement already satisfied: chrisdict in /Users/chris/mambaforge/envs/DeepKorean-23.03/lib/python3.10/site-packages (from chrisbase) (2.0.3)\r\n",
      "Requirement already satisfied: sqlalchemy in /Users/chris/mambaforge/envs/DeepKorean-23.03/lib/python3.10/site-packages (from chrisbase) (2.0.7)\r\n",
      "Requirement already satisfied: six in /Users/chris/mambaforge/envs/DeepKorean-23.03/lib/python3.10/site-packages (from chrisdict->chrisbase) (1.16.0)\r\n",
      "Requirement already satisfied: pytz>=2020.1 in /Users/chris/mambaforge/envs/DeepKorean-23.03/lib/python3.10/site-packages (from pandas->chrisbase) (2022.7.1)\r\n",
      "Requirement already satisfied: python-dateutil>=2.8.1 in /Users/chris/mambaforge/envs/DeepKorean-23.03/lib/python3.10/site-packages (from pandas->chrisbase) (2.8.2)\r\n",
      "Requirement already satisfied: numpy>=1.21.0 in /Users/chris/mambaforge/envs/DeepKorean-23.03/lib/python3.10/site-packages (from pandas->chrisbase) (1.24.2)\r\n",
      "Requirement already satisfied: typing-extensions>=4.2.0 in /Users/chris/mambaforge/envs/DeepKorean-23.03/lib/python3.10/site-packages (from sqlalchemy->chrisbase) (4.5.0)\r\n",
      "Requirement already satisfied: click<9.0.0,>=7.1.1 in /Users/chris/mambaforge/envs/DeepKorean-23.03/lib/python3.10/site-packages (from typer->chrisbase) (8.1.3)\r\n"
     ]
    }
   ],
   "source": [
    "!pip install --upgrade chrisbase"
   ],
   "metadata": {
    "collapsed": false
   }
  },
  {
   "cell_type": "code",
   "execution_count": 2,
   "outputs": [
    {
     "data": {
      "text/plain": "            key                                                         value\n0      env_type                                                BaseProjectEnv\n1      hostname                                               172.20.nate.com\n2      hostaddr                                                   172.20.10.5\n3   python_path  /Users/chris/mambaforge/envs/DeepKorean-23.03/bin/python3.10\n4  project_name                                                    DeepKorean\n5  working_path                            /Users/chris/proj/DeepKorean-23.03\n6  running_file                                           tests/5-ngrok.ipynb",
      "text/html": "<div>\n<style scoped>\n    .dataframe tbody tr th:only-of-type {\n        vertical-align: middle;\n    }\n\n    .dataframe tbody tr th {\n        vertical-align: top;\n    }\n\n    .dataframe thead th {\n        text-align: right;\n    }\n</style>\n<table border=\"1\" class=\"dataframe\">\n  <thead>\n    <tr style=\"text-align: right;\">\n      <th></th>\n      <th>key</th>\n      <th>value</th>\n    </tr>\n  </thead>\n  <tbody>\n    <tr>\n      <th>0</th>\n      <td>env_type</td>\n      <td>BaseProjectEnv</td>\n    </tr>\n    <tr>\n      <th>1</th>\n      <td>hostname</td>\n      <td>172.20.nate.com</td>\n    </tr>\n    <tr>\n      <th>2</th>\n      <td>hostaddr</td>\n      <td>172.20.10.5</td>\n    </tr>\n    <tr>\n      <th>3</th>\n      <td>python_path</td>\n      <td>/Users/chris/mambaforge/envs/DeepKorean-23.03/bin/python3.10</td>\n    </tr>\n    <tr>\n      <th>4</th>\n      <td>project_name</td>\n      <td>DeepKorean</td>\n    </tr>\n    <tr>\n      <th>5</th>\n      <td>working_path</td>\n      <td>/Users/chris/proj/DeepKorean-23.03</td>\n    </tr>\n    <tr>\n      <th>6</th>\n      <td>running_file</td>\n      <td>tests/5-ngrok.ipynb</td>\n    </tr>\n  </tbody>\n</table>\n</div>"
     },
     "execution_count": 2,
     "metadata": {},
     "output_type": "execute_result"
    }
   ],
   "source": [
    "from chrisbase.util import to_dataframe\n",
    "from chrislab.common.util import BaseProjectEnv\n",
    "\n",
    "env = BaseProjectEnv(project_name=\"DeepKorean\")\n",
    "to_dataframe(env)"
   ],
   "metadata": {
    "collapsed": false
   }
  },
  {
   "cell_type": "code",
   "execution_count": 3,
   "outputs": [
    {
     "name": "stdout",
     "output_type": "stream",
     "text": [
      "ngrok executable: /Users/chris/proj/DeepKorean-23.03/ngrok/ngrok3\n",
      "-rwxrwxrwx@ 1 chris  staff  22415432 Mar 23 21:50 \u001B[31m/Users/chris/proj/DeepKorean-23.03/ngrok/ngrok3\u001B[m\u001B[m\r\n"
     ]
    }
   ],
   "source": [
    "import flask_ngrok\n",
    "\n",
    "ngrok_vnum = 3\n",
    "ngrok_home = env.working_path\n",
    "authtoken = \"2NHZJsBLbOgcBLEmZTmuvJaOJM2_2VHnFpENJjTg5dwsSLjiE\"\n",
    "\n",
    "ngrok_exe = flask_ngrok.install_ngrok(home=ngrok_home, ver=ngrok_vnum)\n",
    "print(f\"ngrok executable: {ngrok_exe}\")\n",
    "!ls -al \"{ngrok_exe}\""
   ],
   "metadata": {
    "collapsed": false
   }
  },
  {
   "cell_type": "code",
   "execution_count": 4,
   "outputs": [
    {
     "name": "stdout",
     "output_type": "stream",
     "text": [
      "ngrok version: 3.2.1\n"
     ]
    }
   ],
   "source": [
    "ngrok_version = flask_ngrok.version_ngrok(home=ngrok_home, ver=ngrok_vnum)\n",
    "print(f\"ngrok version: {ngrok_version}\")"
   ],
   "metadata": {
    "collapsed": false
   }
  },
  {
   "cell_type": "code",
   "execution_count": 5,
   "outputs": [
    {
     "name": "stdout",
     "output_type": "stream",
     "text": [
      "Authtoken saved to configuration file: /Users/chris/Library/Application Support/ngrok/ngrok.yml\n",
      "-rw-------@ 1 chris  staff  74 Mar 23 18:43 /Users/chris/Library/Application Support/ngrok/ngrok.yml\r\n",
      "=========================================================================================================================================\r\n",
      "version: \"2\"\r\n",
      "authtoken: 2NHZJsBLbOgcBLEmZTmuvJaOJM2_2VHnFpENJjTg5dwsSLjiE\r\n",
      "=========================================================================================================================================\r\n"
     ]
    }
   ],
   "source": [
    "from chrisbase.io import hr\n",
    "\n",
    "ngrok_cfg = flask_ngrok.configure_ngrok(authtoken=authtoken, home=ngrok_home, ver=ngrok_vnum)\n",
    "line = hr(c='=')\n",
    "!ls -al \"{ngrok_cfg}\"\n",
    "!echo \"{line}\"\n",
    "!cat \"{ngrok_cfg}\"\n",
    "!echo \"{line}\""
   ],
   "metadata": {
    "collapsed": false
   }
  },
  {
   "cell_type": "code",
   "execution_count": null,
   "outputs": [
    {
     "name": "stdout",
     "output_type": "stream",
     "text": [
      " * Serving Flask app '__main__'\n",
      " * Debug mode: off\n"
     ]
    },
    {
     "name": "stderr",
     "output_type": "stream",
     "text": [
      "\u001B[31m\u001B[1mWARNING: This is a development server. Do not use it in a production deployment. Use a production WSGI server instead.\u001B[0m\n",
      " * Running on http://127.0.0.1:5000\n",
      "\u001B[33mPress CTRL+C to quit\u001B[0m\n"
     ]
    },
    {
     "name": "stdout",
     "output_type": "stream",
     "text": [
      "/Users/chris/proj/DeepKorean-23.03/ngrok/ngrok3 http 5000\n",
      " * Running on https://1ef1-2001-2d8-669d-4f22-35bd-f0f1-9820-f605.jp.ngrok.io\n",
      " * Traffic stats available on http://127.0.0.1:4040\n"
     ]
    }
   ],
   "source": [
    "from flask import Flask\n",
    "from flask_ngrok import run_with_ngrok\n",
    "\n",
    "app = Flask(__name__)\n",
    "run_with_ngrok(app, home=ngrok_home, ver=ngrok_vnum)  # Start ngrok when app is run\n",
    "\n",
    "\n",
    "@app.route(\"/\")\n",
    "def hello():\n",
    "    return \"Hello World!\"\n",
    "\n",
    "\n",
    "if __name__ == '__main__':\n",
    "    app.run()\n",
    "    # If address is in use, may need to terminate other sessions:\n",
    "    # - Runtime > Manage Sessions > Terminate Other Sessions"
   ],
   "metadata": {
    "collapsed": false,
    "pycharm": {
     "is_executing": true
    }
   }
  }
 ],
 "metadata": {
  "kernelspec": {
   "display_name": "Python 3",
   "language": "python",
   "name": "python3"
  },
  "language_info": {
   "codemirror_mode": {
    "name": "ipython",
    "version": 2
   },
   "file_extension": ".py",
   "mimetype": "text/x-python",
   "name": "python",
   "nbconvert_exporter": "python",
   "pygments_lexer": "ipython2",
   "version": "2.7.6"
  }
 },
 "nbformat": 4,
 "nbformat_minor": 0
}
