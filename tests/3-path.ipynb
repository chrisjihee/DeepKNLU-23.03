{
 "cells": [
  {
   "cell_type": "code",
   "execution_count": 1,
   "outputs": [
    {
     "data": {
      "text/plain": "            key                                                         value\n0       project                                                    DeepKorean\n1      hostname                                                     chrisbook\n2      hostaddr                                                   10.42.0.191\n3   python_path  /Users/chris/mambaforge/envs/DeepKorean-23.03/bin/python3.10\n4  working_path                                 /Users/chris/DeepKorean-23.03\n5  running_file                                            tests/3-path.ipynb",
      "text/html": "<div>\n<style scoped>\n    .dataframe tbody tr th:only-of-type {\n        vertical-align: middle;\n    }\n\n    .dataframe tbody tr th {\n        vertical-align: top;\n    }\n\n    .dataframe thead th {\n        text-align: right;\n    }\n</style>\n<table border=\"1\" class=\"dataframe\">\n  <thead>\n    <tr style=\"text-align: right;\">\n      <th></th>\n      <th>key</th>\n      <th>value</th>\n    </tr>\n  </thead>\n  <tbody>\n    <tr>\n      <th>0</th>\n      <td>project</td>\n      <td>DeepKorean</td>\n    </tr>\n    <tr>\n      <th>1</th>\n      <td>hostname</td>\n      <td>chrisbook</td>\n    </tr>\n    <tr>\n      <th>2</th>\n      <td>hostaddr</td>\n      <td>10.42.0.191</td>\n    </tr>\n    <tr>\n      <th>3</th>\n      <td>python_path</td>\n      <td>/Users/chris/mambaforge/envs/DeepKorean-23.03/bin/python3.10</td>\n    </tr>\n    <tr>\n      <th>4</th>\n      <td>working_path</td>\n      <td>/Users/chris/DeepKorean-23.03</td>\n    </tr>\n    <tr>\n      <th>5</th>\n      <td>running_file</td>\n      <td>tests/3-path.ipynb</td>\n    </tr>\n  </tbody>\n</table>\n</div>"
     },
     "execution_count": 1,
     "metadata": {},
     "output_type": "execute_result"
    }
   ],
   "source": [
    "from chrisbase.io import ProjectEnv\n",
    "from chrisbase.util import to_dataframe\n",
    "\n",
    "env = ProjectEnv(project=\"DeepKorean\")\n",
    "to_dataframe(env)"
   ],
   "metadata": {
    "collapsed": false
   }
  },
  {
   "cell_type": "code",
   "execution_count": 2,
   "metadata": {},
   "outputs": [
    {
     "name": "stdout",
     "output_type": "stream",
     "text": [
      "================================================================================\n",
      "- /Users/chris/DeepKorean-23.03/tests\n",
      "- /Users/chris/DeepKorean-23.03\n",
      "- /Users/chris/DeepKorean-23.03/chrislab/src\n",
      "- /Users/chris/DeepKorean-23.03/chrisbase/src\n",
      "- /Users/chris/DeepKorean-23.03/transformers/src\n",
      "- /Users/chris/DeepKorean-23.03/lightning/src\n",
      "- /Users/chris/mambaforge/envs/DeepKorean-23.03/lib/python310.zip\n",
      "- /Users/chris/mambaforge/envs/DeepKorean-23.03/lib/python3.10\n",
      "- /Users/chris/mambaforge/envs/DeepKorean-23.03/lib/python3.10/lib-dynload\n",
      "- \n",
      "- /Users/chris/mambaforge/envs/DeepKorean-23.03/lib/python3.10/site-packages\n",
      "================================================================================\n"
     ]
    }
   ],
   "source": [
    "import sys\n",
    "\n",
    "print(\"=\" * 80)\n",
    "for x in sys.path:\n",
    "    print(f\"- {x}\")\n",
    "print(\"=\" * 80)"
   ]
  },
  {
   "cell_type": "code",
   "execution_count": 3,
   "metadata": {},
   "outputs": [
    {
     "name": "stdout",
     "output_type": "stream",
     "text": [
      "[03.24 00:35:27] [INIT] MyTest\n",
      "Hello, Guest!\n",
      "[03.24 00:35:27] [EXIT] MyTest ($=00:00:00.000)\n"
     ]
    }
   ],
   "source": [
    "from chrisbase.io import JobTimer\n",
    "\n",
    "with JobTimer(\"MyTest\", verbose=True):\n",
    "    print(\"Hello, Guest!\")"
   ]
  }
 ],
 "metadata": {
  "kernelspec": {
   "display_name": "Python 3 (ipykernel)",
   "language": "python",
   "name": "python3"
  },
  "language_info": {
   "codemirror_mode": {
    "name": "ipython",
    "version": 3
   },
   "file_extension": ".py",
   "mimetype": "text/x-python",
   "name": "python",
   "nbconvert_exporter": "python",
   "pygments_lexer": "ipython3",
   "version": "3.9.15"
  }
 },
 "nbformat": 4,
 "nbformat_minor": 1
}
