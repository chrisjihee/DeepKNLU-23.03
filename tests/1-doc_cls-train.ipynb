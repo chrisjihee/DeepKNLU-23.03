{
 "cells": [
  {
   "cell_type": "markdown",
   "source": [
    "# 환경 확인\n",
    "현재 프로젝트의 경로를 확인하면서 프로젝트 경로로 디렉토리 이동을 수행합니다."
   ],
   "metadata": {
    "collapsed": false
   }
  },
  {
   "cell_type": "code",
   "execution_count": 1,
   "outputs": [
    {
     "data": {
      "text/plain": "                              key                                                                                                                                                                                    value\n0              CHROME_CONFIG_HOME                                                                                                                                  /home/chris/.config/chrome-remote-desktop/chrome-config\n1   CHROME_REMOTE_DESKTOP_SESSION                                                                                                                                                                                        1\n2                     CINNAMON_2D                                                                                                                                                                                        1\n3        CINNAMON_SLOWDOWN_FACTOR                                                                                                                                                                                   0.0001\n4     CINNAMON_SOFTWARE_RENDERING                                                                                                                                                                                        1\n5                CINNAMON_VERSION                                                                                                                                                                                    5.2.7\n6                        CLICOLOR                                                                                                                                                                                        1\n7                  CLICOLOR_FORCE                                                                                                                                                                                        1\n8             CLUTTER_DEFAULT_FPS                                                                                                                                                                                       15\n9               CLUTTER_IM_MODULE                                                                                                                                                                                      xim\n10                  CLUTTER_PAINT                                                                                                                                                                          disable-culling\n11              CONDA_DEFAULT_ENV                                                                                                                                                                         DeepKorean-23.03\n12                   CONDA_PREFIX                                                                                                                                                     /dat/anaconda3/envs/DeepKorean-23.03\n13          CONDA_PROMPT_MODIFIER                                                                                                                                                                      (DeepKorean-23.03) \n14                    CONDA_SHLVL                                                                                                                                                                                        1\n15       DBUS_SESSION_BUS_ADDRESS                                                                                                                 unix:abstract=/tmp/dbus-gE8NHdwiuH,guid=62fefcf5084c27076dea357863e34b53\n16                        DISPLAY                                                                                                                                                                                      :20\n17                    FORCE_COLOR                                                                                                                                                                                        1\n18                    GDK_BACKEND                                                                                                                                                                                      x11\n19      GIO_LAUNCHED_DESKTOP_FILE                                                                                                                          /home/chris/.local/share/applications/jetbrains-pycharm.desktop\n20  GIO_LAUNCHED_DESKTOP_FILE_PID                                                                                                                                                                                  3764512\n21                      GIT_PAGER                                                                                                                                                                                      cat\n22               GJS_DEBUG_OUTPUT                                                                                                                                                                                   stderr\n23               GJS_DEBUG_TOPICS                                                                                                                                                                          JS ERROR;JS LOG\n24       GNOME_DESKTOP_SESSION_ID                                                                                                                                                                       this-is-deprecated\n25          GNOME_KEYRING_CONTROL                                                                                                                                                        /home/chris/.cache/keyring-ASJ4Z1\n26                 GPG_AGENT_INFO                                                                                                                                                     /run/user/1000/gnupg/S.gpg-agent:0:1\n27                  GTK_IM_MODULE                                                                                                                                                                                     kime\n28                    GTK_MODULES                                                                                                                                                                          gail:atk-bridge\n29          GTK_OVERLAY_SCROLLING                                                                                                                                                                                        1\n30                           HOME                                                                                                                                                                              /home/chris\n31                 JPY_PARENT_PID                                                                                                                                                                                  3807405\n32                           LANG                                                                                                                                                                              en_US.UTF-8\n33                       LANGUAGE                                                                                                                                                                                         \n34                     LC_ADDRESS                                                                                                                                                                              ko_KR.UTF-8\n35                         LC_ALL                                                                                                                                                                              en_US.UTF-8\n36                     LC_COLLATE                                                                                                                                                                              ko_KR.UTF-8\n37              LC_IDENTIFICATION                                                                                                                                                                              ko_KR.UTF-8\n38                 LC_MEASUREMENT                                                                                                                                                                              ko_KR.UTF-8\n39                    LC_MONETARY                                                                                                                                                                              ko_KR.UTF-8\n40                        LC_NAME                                                                                                                                                                              ko_KR.UTF-8\n41                     LC_NUMERIC                                                                                                                                                                              ko_KR.UTF-8\n42                       LC_PAPER                                                                                                                                                                              ko_KR.UTF-8\n43                   LC_TELEPHONE                                                                                                                                                                              ko_KR.UTF-8\n44                LD_LIBRARY_PATH                                              /usr/lib/mesa-diverted/x86_64-linux-gnu:/usr/lib/x86_64-linux-gnu/mesa:/usr/lib/x86_64-linux-gnu/dri:/usr/lib/x86_64-linux-gnu/gallium-pipe\n45          LIBGL_ALWAYS_SOFTWARE                                                                                                                                                                                        1\n46                        LOGNAME                                                                                                                                                                                    chris\n47                     MPLBACKEND                                                                                                                                                module://matplotlib_inline.backend_inline\n48              MUFFIN_NO_SHADOWS                                                                                                                                                                                        1\n49                          PAGER                                                                                                                                                                                      cat\n50                           PATH                      /dat/anaconda3/envs/DeepKorean-23.03/bin:/dat/anaconda3/condabin:/usr/local/sbin:/usr/local/bin:/usr/sbin:/usr/bin:/sbin:/bin:/usr/games:/usr/local/games:/snap/bin\n51              PULSE_CONFIG_PATH                                                                                                                          /home/chris/.config/chrome-remote-desktop/pulseaudio#f54457cf05\n52             PULSE_RUNTIME_PATH                                                                                                                          /home/chris/.config/chrome-remote-desktop/pulseaudio#f54457cf05\n53                     PULSE_SINK                                                                                                                                                            chrome_remote_desktop_session\n54               PULSE_STATE_PATH                                                                                                                          /home/chris/.config/chrome-remote-desktop/pulseaudio#f54457cf05\n55                            PWD                                                                                                                                                               /dat/proj/DeepKorean-23.03\n56          PYDEVD_USE_FRAME_EVAL                                                                                                                                                                                       NO\n57                     PYTHONPATH  /dat/proj/DeepKorean-23.03:/dat/proj/DeepKorean-23.03/chrislab/src:/dat/proj/DeepKorean-23.03/ratsnlp:/dat/proj/DeepKorean-23.03/chrisbase/src:/dat/proj/DeepKorean-23.03/chrisdict/src\n58                  QT4_IM_MODULE                                                                                                                                                                                      xim\n59               QT_ACCESSIBILITY                                                                                                                                                                                        1\n60                   QT_IM_MODULE                                                                                                                                                                                     kime\n61           QT_QPA_PLATFORMTHEME                                                                                                                                                                                    qt5ct\n62                SESSION_MANAGER                                                                                                                    local/chris137:@/tmp/.ICE-unix/2062,unix/chris137:/tmp/.ICE-unix/2062\n63                          SHELL                                                                                                                                                                                /bin/bash\n64                          SHLVL                                                                                                                                                                                        1\n65                  SSH_AUTH_SOCK                                                                                                                                                    /home/chris/.cache/keyring-ASJ4Z1/ssh\n66                           TERM                                                                                                                                                                              xterm-color\n67                           USER                                                                                                                                                                                    chris\n68                     XAUTHORITY                                                                                                                                                                  /home/chris/.Xauthority\n69            XDG_CURRENT_DESKTOP                                                                                                                                                                               X-Cinnamon\n70                  XDG_DATA_DIRS                                                               /usr/share/gnome:/home/chris/.local/share/flatpak/exports/share:/var/lib/flatpak/exports/share:/usr/local/share:/usr/share\n71              XDG_SESSION_CLASS                                                                                                                                                                                     user\n72               XDG_SESSION_TYPE                                                                                                                                                                                      x11\n73                     XMODIFIERS                                                                                                                                                                                 @im=kime\n74                              _                                                                                                                                                                        /usr/bin/cinnamon",
      "text/html": "<div>\n<style scoped>\n    .dataframe tbody tr th:only-of-type {\n        vertical-align: middle;\n    }\n\n    .dataframe tbody tr th {\n        vertical-align: top;\n    }\n\n    .dataframe thead th {\n        text-align: right;\n    }\n</style>\n<table border=\"1\" class=\"dataframe\">\n  <thead>\n    <tr style=\"text-align: right;\">\n      <th></th>\n      <th>key</th>\n      <th>value</th>\n    </tr>\n  </thead>\n  <tbody>\n    <tr>\n      <th>0</th>\n      <td>CHROME_CONFIG_HOME</td>\n      <td>/home/chris/.config/chrome-remote-desktop/chrome-config</td>\n    </tr>\n    <tr>\n      <th>1</th>\n      <td>CHROME_REMOTE_DESKTOP_SESSION</td>\n      <td>1</td>\n    </tr>\n    <tr>\n      <th>2</th>\n      <td>CINNAMON_2D</td>\n      <td>1</td>\n    </tr>\n    <tr>\n      <th>3</th>\n      <td>CINNAMON_SLOWDOWN_FACTOR</td>\n      <td>0.0001</td>\n    </tr>\n    <tr>\n      <th>4</th>\n      <td>CINNAMON_SOFTWARE_RENDERING</td>\n      <td>1</td>\n    </tr>\n    <tr>\n      <th>5</th>\n      <td>CINNAMON_VERSION</td>\n      <td>5.2.7</td>\n    </tr>\n    <tr>\n      <th>6</th>\n      <td>CLICOLOR</td>\n      <td>1</td>\n    </tr>\n    <tr>\n      <th>7</th>\n      <td>CLICOLOR_FORCE</td>\n      <td>1</td>\n    </tr>\n    <tr>\n      <th>8</th>\n      <td>CLUTTER_DEFAULT_FPS</td>\n      <td>15</td>\n    </tr>\n    <tr>\n      <th>9</th>\n      <td>CLUTTER_IM_MODULE</td>\n      <td>xim</td>\n    </tr>\n    <tr>\n      <th>10</th>\n      <td>CLUTTER_PAINT</td>\n      <td>disable-culling</td>\n    </tr>\n    <tr>\n      <th>11</th>\n      <td>CONDA_DEFAULT_ENV</td>\n      <td>DeepKorean-23.03</td>\n    </tr>\n    <tr>\n      <th>12</th>\n      <td>CONDA_PREFIX</td>\n      <td>/dat/anaconda3/envs/DeepKorean-23.03</td>\n    </tr>\n    <tr>\n      <th>13</th>\n      <td>CONDA_PROMPT_MODIFIER</td>\n      <td>(DeepKorean-23.03)</td>\n    </tr>\n    <tr>\n      <th>14</th>\n      <td>CONDA_SHLVL</td>\n      <td>1</td>\n    </tr>\n    <tr>\n      <th>15</th>\n      <td>DBUS_SESSION_BUS_ADDRESS</td>\n      <td>unix:abstract=/tmp/dbus-gE8NHdwiuH,guid=62fefcf5084c27076dea357863e34b53</td>\n    </tr>\n    <tr>\n      <th>16</th>\n      <td>DISPLAY</td>\n      <td>:20</td>\n    </tr>\n    <tr>\n      <th>17</th>\n      <td>FORCE_COLOR</td>\n      <td>1</td>\n    </tr>\n    <tr>\n      <th>18</th>\n      <td>GDK_BACKEND</td>\n      <td>x11</td>\n    </tr>\n    <tr>\n      <th>19</th>\n      <td>GIO_LAUNCHED_DESKTOP_FILE</td>\n      <td>/home/chris/.local/share/applications/jetbrains-pycharm.desktop</td>\n    </tr>\n    <tr>\n      <th>20</th>\n      <td>GIO_LAUNCHED_DESKTOP_FILE_PID</td>\n      <td>3764512</td>\n    </tr>\n    <tr>\n      <th>21</th>\n      <td>GIT_PAGER</td>\n      <td>cat</td>\n    </tr>\n    <tr>\n      <th>22</th>\n      <td>GJS_DEBUG_OUTPUT</td>\n      <td>stderr</td>\n    </tr>\n    <tr>\n      <th>23</th>\n      <td>GJS_DEBUG_TOPICS</td>\n      <td>JS ERROR;JS LOG</td>\n    </tr>\n    <tr>\n      <th>24</th>\n      <td>GNOME_DESKTOP_SESSION_ID</td>\n      <td>this-is-deprecated</td>\n    </tr>\n    <tr>\n      <th>25</th>\n      <td>GNOME_KEYRING_CONTROL</td>\n      <td>/home/chris/.cache/keyring-ASJ4Z1</td>\n    </tr>\n    <tr>\n      <th>26</th>\n      <td>GPG_AGENT_INFO</td>\n      <td>/run/user/1000/gnupg/S.gpg-agent:0:1</td>\n    </tr>\n    <tr>\n      <th>27</th>\n      <td>GTK_IM_MODULE</td>\n      <td>kime</td>\n    </tr>\n    <tr>\n      <th>28</th>\n      <td>GTK_MODULES</td>\n      <td>gail:atk-bridge</td>\n    </tr>\n    <tr>\n      <th>29</th>\n      <td>GTK_OVERLAY_SCROLLING</td>\n      <td>1</td>\n    </tr>\n    <tr>\n      <th>30</th>\n      <td>HOME</td>\n      <td>/home/chris</td>\n    </tr>\n    <tr>\n      <th>31</th>\n      <td>JPY_PARENT_PID</td>\n      <td>3807405</td>\n    </tr>\n    <tr>\n      <th>32</th>\n      <td>LANG</td>\n      <td>en_US.UTF-8</td>\n    </tr>\n    <tr>\n      <th>33</th>\n      <td>LANGUAGE</td>\n      <td></td>\n    </tr>\n    <tr>\n      <th>34</th>\n      <td>LC_ADDRESS</td>\n      <td>ko_KR.UTF-8</td>\n    </tr>\n    <tr>\n      <th>35</th>\n      <td>LC_ALL</td>\n      <td>en_US.UTF-8</td>\n    </tr>\n    <tr>\n      <th>36</th>\n      <td>LC_COLLATE</td>\n      <td>ko_KR.UTF-8</td>\n    </tr>\n    <tr>\n      <th>37</th>\n      <td>LC_IDENTIFICATION</td>\n      <td>ko_KR.UTF-8</td>\n    </tr>\n    <tr>\n      <th>38</th>\n      <td>LC_MEASUREMENT</td>\n      <td>ko_KR.UTF-8</td>\n    </tr>\n    <tr>\n      <th>39</th>\n      <td>LC_MONETARY</td>\n      <td>ko_KR.UTF-8</td>\n    </tr>\n    <tr>\n      <th>40</th>\n      <td>LC_NAME</td>\n      <td>ko_KR.UTF-8</td>\n    </tr>\n    <tr>\n      <th>41</th>\n      <td>LC_NUMERIC</td>\n      <td>ko_KR.UTF-8</td>\n    </tr>\n    <tr>\n      <th>42</th>\n      <td>LC_PAPER</td>\n      <td>ko_KR.UTF-8</td>\n    </tr>\n    <tr>\n      <th>43</th>\n      <td>LC_TELEPHONE</td>\n      <td>ko_KR.UTF-8</td>\n    </tr>\n    <tr>\n      <th>44</th>\n      <td>LD_LIBRARY_PATH</td>\n      <td>/usr/lib/mesa-diverted/x86_64-linux-gnu:/usr/lib/x86_64-linux-gnu/mesa:/usr/lib/x86_64-linux-gnu/dri:/usr/lib/x86_64-linux-gnu/gallium-pipe</td>\n    </tr>\n    <tr>\n      <th>45</th>\n      <td>LIBGL_ALWAYS_SOFTWARE</td>\n      <td>1</td>\n    </tr>\n    <tr>\n      <th>46</th>\n      <td>LOGNAME</td>\n      <td>chris</td>\n    </tr>\n    <tr>\n      <th>47</th>\n      <td>MPLBACKEND</td>\n      <td>module://matplotlib_inline.backend_inline</td>\n    </tr>\n    <tr>\n      <th>48</th>\n      <td>MUFFIN_NO_SHADOWS</td>\n      <td>1</td>\n    </tr>\n    <tr>\n      <th>49</th>\n      <td>PAGER</td>\n      <td>cat</td>\n    </tr>\n    <tr>\n      <th>50</th>\n      <td>PATH</td>\n      <td>/dat/anaconda3/envs/DeepKorean-23.03/bin:/dat/anaconda3/condabin:/usr/local/sbin:/usr/local/bin:/usr/sbin:/usr/bin:/sbin:/bin:/usr/games:/usr/local/games:/snap/bin</td>\n    </tr>\n    <tr>\n      <th>51</th>\n      <td>PULSE_CONFIG_PATH</td>\n      <td>/home/chris/.config/chrome-remote-desktop/pulseaudio#f54457cf05</td>\n    </tr>\n    <tr>\n      <th>52</th>\n      <td>PULSE_RUNTIME_PATH</td>\n      <td>/home/chris/.config/chrome-remote-desktop/pulseaudio#f54457cf05</td>\n    </tr>\n    <tr>\n      <th>53</th>\n      <td>PULSE_SINK</td>\n      <td>chrome_remote_desktop_session</td>\n    </tr>\n    <tr>\n      <th>54</th>\n      <td>PULSE_STATE_PATH</td>\n      <td>/home/chris/.config/chrome-remote-desktop/pulseaudio#f54457cf05</td>\n    </tr>\n    <tr>\n      <th>55</th>\n      <td>PWD</td>\n      <td>/dat/proj/DeepKorean-23.03</td>\n    </tr>\n    <tr>\n      <th>56</th>\n      <td>PYDEVD_USE_FRAME_EVAL</td>\n      <td>NO</td>\n    </tr>\n    <tr>\n      <th>57</th>\n      <td>PYTHONPATH</td>\n      <td>/dat/proj/DeepKorean-23.03:/dat/proj/DeepKorean-23.03/chrislab/src:/dat/proj/DeepKorean-23.03/ratsnlp:/dat/proj/DeepKorean-23.03/chrisbase/src:/dat/proj/DeepKorean-23.03/chrisdict/src</td>\n    </tr>\n    <tr>\n      <th>58</th>\n      <td>QT4_IM_MODULE</td>\n      <td>xim</td>\n    </tr>\n    <tr>\n      <th>59</th>\n      <td>QT_ACCESSIBILITY</td>\n      <td>1</td>\n    </tr>\n    <tr>\n      <th>60</th>\n      <td>QT_IM_MODULE</td>\n      <td>kime</td>\n    </tr>\n    <tr>\n      <th>61</th>\n      <td>QT_QPA_PLATFORMTHEME</td>\n      <td>qt5ct</td>\n    </tr>\n    <tr>\n      <th>62</th>\n      <td>SESSION_MANAGER</td>\n      <td>local/chris137:@/tmp/.ICE-unix/2062,unix/chris137:/tmp/.ICE-unix/2062</td>\n    </tr>\n    <tr>\n      <th>63</th>\n      <td>SHELL</td>\n      <td>/bin/bash</td>\n    </tr>\n    <tr>\n      <th>64</th>\n      <td>SHLVL</td>\n      <td>1</td>\n    </tr>\n    <tr>\n      <th>65</th>\n      <td>SSH_AUTH_SOCK</td>\n      <td>/home/chris/.cache/keyring-ASJ4Z1/ssh</td>\n    </tr>\n    <tr>\n      <th>66</th>\n      <td>TERM</td>\n      <td>xterm-color</td>\n    </tr>\n    <tr>\n      <th>67</th>\n      <td>USER</td>\n      <td>chris</td>\n    </tr>\n    <tr>\n      <th>68</th>\n      <td>XAUTHORITY</td>\n      <td>/home/chris/.Xauthority</td>\n    </tr>\n    <tr>\n      <th>69</th>\n      <td>XDG_CURRENT_DESKTOP</td>\n      <td>X-Cinnamon</td>\n    </tr>\n    <tr>\n      <th>70</th>\n      <td>XDG_DATA_DIRS</td>\n      <td>/usr/share/gnome:/home/chris/.local/share/flatpak/exports/share:/var/lib/flatpak/exports/share:/usr/local/share:/usr/share</td>\n    </tr>\n    <tr>\n      <th>71</th>\n      <td>XDG_SESSION_CLASS</td>\n      <td>user</td>\n    </tr>\n    <tr>\n      <th>72</th>\n      <td>XDG_SESSION_TYPE</td>\n      <td>x11</td>\n    </tr>\n    <tr>\n      <th>73</th>\n      <td>XMODIFIERS</td>\n      <td>@im=kime</td>\n    </tr>\n    <tr>\n      <th>74</th>\n      <td>_</td>\n      <td>/usr/bin/cinnamon</td>\n    </tr>\n  </tbody>\n</table>\n</div>"
     },
     "execution_count": 1,
     "metadata": {},
     "output_type": "execute_result"
    }
   ],
   "source": [
    "from chrisbase.io import environ_to_dataframe\n",
    "\n",
    "environ_to_dataframe(max_value_len=200)"
   ],
   "metadata": {
    "collapsed": false
   }
  },
  {
   "cell_type": "code",
   "execution_count": 2,
   "outputs": [
    {
     "data": {
      "text/plain": "               key                                            value\n0         hostname                                         chris137\n1         hostaddr                                  129.254.164.137\n2      python_path  /dat/anaconda3/envs/DeepKorean-23.03/bin/python\n3     project_name                                       DeepKorean\n4     project_path                       /dat/proj/DeepKorean-23.03\n5     working_path                       /dat/proj/DeepKorean-23.03\n6     running_file                      tests/1-doc_cls-train.ipynb\n7     working_gpus                                              0,1\n8   number_of_gpus                                                4\n9    cuda_home_dir                             /usr/local/cuda-12.0\n10  torch_cuda_ver                                             11.7",
      "text/html": "<div>\n<style scoped>\n    .dataframe tbody tr th:only-of-type {\n        vertical-align: middle;\n    }\n\n    .dataframe tbody tr th {\n        vertical-align: top;\n    }\n\n    .dataframe thead th {\n        text-align: right;\n    }\n</style>\n<table border=\"1\" class=\"dataframe\">\n  <thead>\n    <tr style=\"text-align: right;\">\n      <th></th>\n      <th>key</th>\n      <th>value</th>\n    </tr>\n  </thead>\n  <tbody>\n    <tr>\n      <th>0</th>\n      <td>hostname</td>\n      <td>chris137</td>\n    </tr>\n    <tr>\n      <th>1</th>\n      <td>hostaddr</td>\n      <td>129.254.164.137</td>\n    </tr>\n    <tr>\n      <th>2</th>\n      <td>python_path</td>\n      <td>/dat/anaconda3/envs/DeepKorean-23.03/bin/python</td>\n    </tr>\n    <tr>\n      <th>3</th>\n      <td>project_name</td>\n      <td>DeepKorean</td>\n    </tr>\n    <tr>\n      <th>4</th>\n      <td>project_path</td>\n      <td>/dat/proj/DeepKorean-23.03</td>\n    </tr>\n    <tr>\n      <th>5</th>\n      <td>working_path</td>\n      <td>/dat/proj/DeepKorean-23.03</td>\n    </tr>\n    <tr>\n      <th>6</th>\n      <td>running_file</td>\n      <td>tests/1-doc_cls-train.ipynb</td>\n    </tr>\n    <tr>\n      <th>7</th>\n      <td>working_gpus</td>\n      <td>0,1</td>\n    </tr>\n    <tr>\n      <th>8</th>\n      <td>number_of_gpus</td>\n      <td>4</td>\n    </tr>\n    <tr>\n      <th>9</th>\n      <td>cuda_home_dir</td>\n      <td>/usr/local/cuda-12.0</td>\n    </tr>\n    <tr>\n      <th>10</th>\n      <td>torch_cuda_ver</td>\n      <td>11.7</td>\n    </tr>\n  </tbody>\n</table>\n</div>"
     },
     "execution_count": 2,
     "metadata": {},
     "output_type": "execute_result"
    }
   ],
   "source": [
    "from chrisbase.util import to_dataframe\n",
    "from chrislab.common.util import GpuProjectEnv\n",
    "\n",
    "env = GpuProjectEnv(project_name=\"DeepKorean\", working_gpus=\"0,1\")\n",
    "to_dataframe(env)"
   ],
   "metadata": {
    "collapsed": false
   }
  },
  {
   "cell_type": "markdown",
   "source": [
    "# 각종 설정\n",
    "모델 하이퍼파라메터(hyperparameter)와 저장 위치 등 설정 정보를 선언합니다."
   ],
   "metadata": {
    "collapsed": false
   }
  },
  {
   "cell_type": "code",
   "execution_count": null,
   "outputs": [],
   "source": [
    "from ratsnlp.nlpbook.classification import ClassificationTrainArguments\n",
    "\n",
    "args = ClassificationTrainArguments(\n",
    "    pretrained_model_name=\"pretrained/KcBERT-Base\",\n",
    "    downstream_corpus_name=\"nsmc\",\n",
    "    downstream_corpus_root_dir=\"data\",\n",
    "    downstream_model_dir=\"checkpoints/nsmc\",\n",
    "    batch_size=32,\n",
    "    learning_rate=5e-5,\n",
    "    max_seq_length=128,\n",
    "    epochs=3,\n",
    "    tpu_cores=0,\n",
    "    seed=7,\n",
    ")"
   ],
   "metadata": {
    "collapsed": false
   }
  },
  {
   "cell_type": "markdown",
   "source": [
    "# 랜덤 시드 고정\n",
    "학습 재현을 위해 랜덤 시드를 고정합니다."
   ],
   "metadata": {
    "collapsed": false
   }
  },
  {
   "cell_type": "code",
   "execution_count": null,
   "outputs": [],
   "source": [
    "from ratsnlp import nlpbook\n",
    "\n",
    "nlpbook.set_seed(args)"
   ],
   "metadata": {
    "collapsed": false
   }
  },
  {
   "cell_type": "markdown",
   "source": [
    "# 로거 설정\n",
    "메세지 출력 등을 위한 logger를 설정합니다."
   ],
   "metadata": {
    "collapsed": false
   }
  },
  {
   "cell_type": "code",
   "execution_count": null,
   "outputs": [],
   "source": [
    "nlpbook.set_logger(args)"
   ],
   "metadata": {
    "collapsed": false
   }
  },
  {
   "cell_type": "markdown",
   "source": [
    "# 말뭉치 다운로드\n",
    "실습에 사용할 말뭉치를 다운로드합니다."
   ],
   "metadata": {
    "collapsed": false
   }
  },
  {
   "cell_type": "code",
   "execution_count": null,
   "outputs": [],
   "source": [
    "from Korpora import Korpora\n",
    "\n",
    "Korpora.fetch(\n",
    "    corpus_name=args.downstream_corpus_name,\n",
    "    root_dir=args.downstream_corpus_root_dir,\n",
    ")"
   ],
   "metadata": {
    "collapsed": false
   }
  },
  {
   "cell_type": "markdown",
   "source": [
    "# 토크나이저 준비\n",
    "토큰화를 수행하는 토크나이저를 선언합니다"
   ],
   "metadata": {
    "collapsed": false
   }
  },
  {
   "cell_type": "code",
   "execution_count": null,
   "outputs": [],
   "source": [
    "from transformers import BertTokenizer\n",
    "\n",
    "tokenizer = BertTokenizer.from_pretrained(\n",
    "    args.pretrained_model_name,\n",
    "    do_lower_case=False,\n",
    ")\n",
    "print(tokenizer.tokenize(\"안녕하세요. 반갑습니다.\"))\n",
    "tokenizer"
   ],
   "metadata": {
    "collapsed": false
   }
  },
  {
   "cell_type": "markdown",
   "source": [
    "# 학습데이터 구축\n",
    "학습데이터를 구축합니다."
   ],
   "metadata": {
    "collapsed": false
   }
  },
  {
   "cell_type": "code",
   "execution_count": null,
   "outputs": [],
   "source": [
    "from ratsnlp.nlpbook.classification import NsmcCorpus, ClassificationDataset\n",
    "from torch.utils.data import DataLoader, RandomSampler\n",
    "\n",
    "corpus = NsmcCorpus()\n",
    "train_dataset = ClassificationDataset(\n",
    "    args=args,\n",
    "    corpus=corpus,\n",
    "    tokenizer=tokenizer,\n",
    "    mode=\"train\",\n",
    ")\n",
    "train_dataloader = DataLoader(\n",
    "    train_dataset,\n",
    "    batch_size=args.batch_size,\n",
    "    sampler=RandomSampler(train_dataset, replacement=False),\n",
    "    collate_fn=nlpbook.data_collator,\n",
    "    drop_last=False,\n",
    "    num_workers=args.cpu_workers,\n",
    ")"
   ],
   "metadata": {
    "collapsed": false
   }
  },
  {
   "cell_type": "markdown",
   "source": [
    "# 평가데이터 구축\n",
    "학습 중에 사용할 평가데이터를 구축합니다."
   ],
   "metadata": {
    "collapsed": false
   }
  },
  {
   "cell_type": "code",
   "execution_count": null,
   "outputs": [],
   "source": [
    "from torch.utils.data import SequentialSampler\n",
    "\n",
    "val_dataset = ClassificationDataset(\n",
    "    args=args,\n",
    "    corpus=corpus,\n",
    "    tokenizer=tokenizer,\n",
    "    mode=\"test\",\n",
    ")\n",
    "val_dataloader = DataLoader(\n",
    "    val_dataset,\n",
    "    batch_size=args.batch_size,\n",
    "    sampler=SequentialSampler(val_dataset),\n",
    "    collate_fn=nlpbook.data_collator,\n",
    "    drop_last=False,\n",
    "    num_workers=args.cpu_workers,\n",
    ")"
   ],
   "metadata": {
    "collapsed": false
   }
  },
  {
   "cell_type": "markdown",
   "source": [
    "# 모델 초기화\n",
    "사전학습 모델을 읽고, 문서 분류를 수행할 모델을 초기화합니다."
   ],
   "metadata": {
    "collapsed": false
   }
  },
  {
   "cell_type": "code",
   "execution_count": null,
   "outputs": [],
   "source": [
    "from transformers import BertConfig, BertForSequenceClassification\n",
    "\n",
    "pretrained_model_config = BertConfig.from_pretrained(\n",
    "    args.pretrained_model_name,\n",
    "    num_labels=corpus.num_labels,\n",
    ")\n",
    "model = BertForSequenceClassification.from_pretrained(\n",
    "    args.pretrained_model_name,\n",
    "    config=pretrained_model_config,\n",
    ")"
   ],
   "metadata": {
    "collapsed": false
   }
  },
  {
   "cell_type": "markdown",
   "source": [
    "# 학습 준비\n",
    "Task와 Trainer를 준비합니다."
   ],
   "metadata": {
    "collapsed": false
   }
  },
  {
   "cell_type": "code",
   "execution_count": null,
   "outputs": [],
   "source": [
    "from ratsnlp.nlpbook.classification import ClassificationTask\n",
    "\n",
    "task = ClassificationTask(model, args)"
   ],
   "metadata": {
    "collapsed": false
   }
  },
  {
   "cell_type": "code",
   "execution_count": null,
   "outputs": [],
   "source": [
    "trainer = nlpbook.get_trainer(args)"
   ],
   "metadata": {
    "collapsed": false
   }
  },
  {
   "cell_type": "markdown",
   "source": [
    "# 학습 개시\n",
    "준비한 데이터와 모델로 학습을 시작합니다. 학습 결과물은 미리 세팅한 위치(`args.downstream_model_dir`)에 저장됩니다."
   ],
   "metadata": {
    "collapsed": false
   }
  },
  {
   "cell_type": "code",
   "execution_count": null,
   "outputs": [],
   "source": [
    "trainer.fit(\n",
    "    task,\n",
    "    train_dataloaders=train_dataloader,\n",
    "    val_dataloaders=val_dataloader,\n",
    ")"
   ],
   "metadata": {
    "collapsed": false
   }
  }
 ],
 "metadata": {
  "kernelspec": {
   "display_name": "Python 3",
   "language": "python",
   "name": "python3"
  },
  "language_info": {
   "codemirror_mode": {
    "name": "ipython",
    "version": 2
   },
   "file_extension": ".py",
   "mimetype": "text/x-python",
   "name": "python",
   "nbconvert_exporter": "python",
   "pygments_lexer": "ipython2",
   "version": "2.7.6"
  }
 },
 "nbformat": 4,
 "nbformat_minor": 0
}
