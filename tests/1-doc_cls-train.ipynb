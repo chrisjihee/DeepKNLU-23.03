{
 "cells": [
  {
   "cell_type": "markdown",
   "source": [
    "# 환경 확인\n",
    "현재 프로젝트의 경로를 확인하면서 프로젝트 경로로 디렉토리 이동을 수행합니다."
   ],
   "metadata": {
    "collapsed": false
   }
  },
  {
   "cell_type": "code",
   "execution_count": 10,
   "outputs": [
    {
     "name": "stdout",
     "output_type": "stream",
     "text": [
      "            key                                            value\n",
      "0   python_path  /dat/anaconda3/envs/DeepKorean-23.03/bin/python\n",
      "1  project_path                       /dat/proj/DeepKorean-23.03\n",
      "2  current_path                      tests/1-doc_cls-train.ipynb\n",
      "3  gpus_to_work                                              0,1\n",
      "environ({'PATH': '/dat/anaconda3/envs/DeepKorean-23.03/bin:/dat/anaconda3/condabin:/usr/local/sbin:/usr/local/bin:/usr/sbin:/usr/bin:/sbin:/bin:/usr/games:/usr/local/games:/snap/bin', 'LC_MEASUREMENT': 'ko_KR.UTF-8', 'XAUTHORITY': '/home/chris/.Xauthority', 'XMODIFIERS': '@im=kime', 'LC_TELEPHONE': 'ko_KR.UTF-8', 'XDG_DATA_DIRS': '/usr/share/gnome:/home/chris/.local/share/flatpak/exports/share:/var/lib/flatpak/exports/share:/usr/local/share:/usr/share', 'CHROME_CONFIG_HOME': '/home/chris/.config/chrome-remote-desktop/chrome-config', 'CONDA_DEFAULT_ENV': 'DeepKorean-23.03', 'GTK_IM_MODULE': 'kime', 'DBUS_SESSION_BUS_ADDRESS': 'unix:abstract=/tmp/dbus-gE8NHdwiuH,guid=62fefcf5084c27076dea357863e34b53', 'XDG_CURRENT_DESKTOP': 'X-Cinnamon', 'CINNAMON_SLOWDOWN_FACTOR': '0.0001', 'CONDA_PREFIX': '/dat/anaconda3/envs/DeepKorean-23.03', 'LIBGL_ALWAYS_SOFTWARE': '1', 'CLUTTER_DEFAULT_FPS': '15', 'LD_LIBRARY_PATH': '/usr/lib/mesa-diverted/x86_64-linux-gnu:/usr/lib/x86_64-linux-gnu/mesa:/usr/lib/x86_64-linux-gnu/dri:/usr/lib/x86_64-linux-gnu/gallium-pipe', 'CHROME_REMOTE_DESKTOP_SESSION': '1', 'LC_COLLATE': 'ko_KR.UTF-8', 'QT4_IM_MODULE': 'xim', 'LC_PAPER': 'ko_KR.UTF-8', 'SESSION_MANAGER': 'local/chris137:@/tmp/.ICE-unix/2062,unix/chris137:/tmp/.ICE-unix/2062', 'CINNAMON_SOFTWARE_RENDERING': '1', 'LOGNAME': 'chris', 'PWD': '/dat/proj/DeepKorean-23.03', 'LANGUAGE': '', 'GJS_DEBUG_TOPICS': 'JS ERROR;JS LOG', 'PYTHONPATH': '/dat/proj/DeepKorean-23.03:/dat/proj/DeepKorean-23.03/chrislab/src:/dat/proj/DeepKorean-23.03/ratsnlp:/dat/proj/DeepKorean-23.03/chrisbase/src:/dat/proj/DeepKorean-23.03/chrisdict/src', 'SHELL': '/bin/bash', 'LC_ADDRESS': 'ko_KR.UTF-8', 'PULSE_STATE_PATH': '/home/chris/.config/chrome-remote-desktop/pulseaudio#f54457cf05', 'GIO_LAUNCHED_DESKTOP_FILE': '/home/chris/.local/share/applications/jetbrains-pycharm.desktop', 'CLUTTER_PAINT': 'disable-culling', 'GNOME_DESKTOP_SESSION_ID': 'this-is-deprecated', 'GTK_MODULES': 'gail:atk-bridge', 'CLUTTER_IM_MODULE': 'xim', 'LC_ALL': 'en_US.UTF-8', 'CINNAMON_2D': '1', 'CONDA_PROMPT_MODIFIER': '(DeepKorean-23.03) ', 'SHLVL': '1', 'LC_IDENTIFICATION': 'ko_KR.UTF-8', 'LC_MONETARY': 'ko_KR.UTF-8', 'QT_IM_MODULE': 'kime', 'PULSE_RUNTIME_PATH': '/home/chris/.config/chrome-remote-desktop/pulseaudio#f54457cf05', 'LANG': 'en_US.UTF-8', 'GNOME_KEYRING_CONTROL': '/home/chris/.cache/keyring-ASJ4Z1', 'XDG_SESSION_TYPE': 'x11', 'PULSE_CONFIG_PATH': '/home/chris/.config/chrome-remote-desktop/pulseaudio#f54457cf05', 'DISPLAY': ':20', 'PULSE_SINK': 'chrome_remote_desktop_session', 'CINNAMON_VERSION': '5.2.7', 'LC_NAME': 'ko_KR.UTF-8', 'CONDA_SHLVL': '1', 'XDG_SESSION_CLASS': 'user', '_': '/usr/bin/cinnamon', 'GDK_BACKEND': 'x11', 'GPG_AGENT_INFO': '/run/user/1000/gnupg/S.gpg-agent:0:1', 'USER': 'chris', 'MUFFIN_NO_SHADOWS': '1', 'GIO_LAUNCHED_DESKTOP_FILE_PID': '3670800', 'QT_ACCESSIBILITY': '1', 'LC_NUMERIC': 'ko_KR.UTF-8', 'GJS_DEBUG_OUTPUT': 'stderr', 'SSH_AUTH_SOCK': '/home/chris/.cache/keyring-ASJ4Z1/ssh', 'GTK_OVERLAY_SCROLLING': '1', 'QT_QPA_PLATFORMTHEME': 'qt5ct', 'HOME': '/home/chris', 'PYDEVD_USE_FRAME_EVAL': 'NO', 'JPY_PARENT_PID': '3675318', 'TERM': 'xterm-color', 'CLICOLOR': '1', 'FORCE_COLOR': '1', 'CLICOLOR_FORCE': '1', 'PAGER': 'cat', 'GIT_PAGER': 'cat', 'MPLBACKEND': 'module://matplotlib_inline.backend_inline', 'CUDA_DEVICE_ORDER': 'PCI_BUS_ID', 'CUDA_VISIBLE_DEVICES': '0,1'})\n",
      "                                 key                                                                                                                                                                                       value\n",
      "0                            b'PATH'                      b'/dat/anaconda3/envs/DeepKorean-23.03/bin:/dat/anaconda3/condabin:/usr/local/sbin:/usr/local/bin:/usr/sbin:/usr/bin:/sbin:/bin:/usr/games:/usr/local/games:/snap/bin'\n",
      "1                  b'LC_MEASUREMENT'                                                                                                                                                                              b'ko_KR.UTF-8'\n",
      "2                      b'XAUTHORITY'                                                                                                                                                                  b'/home/chris/.Xauthority'\n",
      "3                      b'XMODIFIERS'                                                                                                                                                                                 b'@im=kime'\n",
      "4                    b'LC_TELEPHONE'                                                                                                                                                                              b'ko_KR.UTF-8'\n",
      "5                   b'XDG_DATA_DIRS'                                                               b'/usr/share/gnome:/home/chris/.local/share/flatpak/exports/share:/var/lib/flatpak/exports/share:/usr/local/share:/usr/share'\n",
      "6              b'CHROME_CONFIG_HOME'                                                                                                                                  b'/home/chris/.config/chrome-remote-desktop/chrome-config'\n",
      "7               b'CONDA_DEFAULT_ENV'                                                                                                                                                                         b'DeepKorean-23.03'\n",
      "8                   b'GTK_IM_MODULE'                                                                                                                                                                                     b'kime'\n",
      "9        b'DBUS_SESSION_BUS_ADDRESS'                                                                                                                 b'unix:abstract=/tmp/dbus-gE8NHdwiuH,guid=62fefcf5084c27076dea357863e34b53'\n",
      "10            b'XDG_CURRENT_DESKTOP'                                                                                                                                                                               b'X-Cinnamon'\n",
      "11       b'CINNAMON_SLOWDOWN_FACTOR'                                                                                                                                                                                   b'0.0001'\n",
      "12                   b'CONDA_PREFIX'                                                                                                                                                     b'/dat/anaconda3/envs/DeepKorean-23.03'\n",
      "13          b'LIBGL_ALWAYS_SOFTWARE'                                                                                                                                                                                        b'1'\n",
      "14            b'CLUTTER_DEFAULT_FPS'                                                                                                                                                                                       b'15'\n",
      "15                b'LD_LIBRARY_PATH'                                              b'/usr/lib/mesa-diverted/x86_64-linux-gnu:/usr/lib/x86_64-linux-gnu/mesa:/usr/lib/x86_64-linux-gnu/dri:/usr/lib/x86_64-linux-gnu/gallium-pipe'\n",
      "16  b'CHROME_REMOTE_DESKTOP_SESSION'                                                                                                                                                                                        b'1'\n",
      "17                     b'LC_COLLATE'                                                                                                                                                                              b'ko_KR.UTF-8'\n",
      "18                  b'QT4_IM_MODULE'                                                                                                                                                                                      b'xim'\n",
      "19                       b'LC_PAPER'                                                                                                                                                                              b'ko_KR.UTF-8'\n",
      "20                b'SESSION_MANAGER'                                                                                                                    b'local/chris137:@/tmp/.ICE-unix/2062,unix/chris137:/tmp/.ICE-unix/2062'\n",
      "21    b'CINNAMON_SOFTWARE_RENDERING'                                                                                                                                                                                        b'1'\n",
      "22                        b'LOGNAME'                                                                                                                                                                                    b'chris'\n",
      "23                            b'PWD'                                                                                                                                                               b'/dat/proj/DeepKorean-23.03'\n",
      "24                       b'LANGUAGE'                                                                                                                                                                                         b''\n",
      "25               b'GJS_DEBUG_TOPICS'                                                                                                                                                                          b'JS ERROR;JS LOG'\n",
      "26                     b'PYTHONPATH'  b'/dat/proj/DeepKorean-23.03:/dat/proj/DeepKorean-23.03/chrislab/src:/dat/proj/DeepKorean-23.03/ratsnlp:/dat/proj/DeepKorean-23.03/chrisbase/src:/dat/proj/DeepKorean-23.03/chrisdict/src'\n",
      "27                          b'SHELL'                                                                                                                                                                                b'/bin/bash'\n",
      "28                     b'LC_ADDRESS'                                                                                                                                                                              b'ko_KR.UTF-8'\n",
      "29               b'PULSE_STATE_PATH'                                                                                                                          b'/home/chris/.config/chrome-remote-desktop/pulseaudio#f54457cf05'\n",
      "30      b'GIO_LAUNCHED_DESKTOP_FILE'                                                                                                                          b'/home/chris/.local/share/applications/jetbrains-pycharm.desktop'\n",
      "31                  b'CLUTTER_PAINT'                                                                                                                                                                          b'disable-culling'\n",
      "32       b'GNOME_DESKTOP_SESSION_ID'                                                                                                                                                                       b'this-is-deprecated'\n",
      "33                    b'GTK_MODULES'                                                                                                                                                                          b'gail:atk-bridge'\n",
      "34              b'CLUTTER_IM_MODULE'                                                                                                                                                                                      b'xim'\n",
      "35                         b'LC_ALL'                                                                                                                                                                              b'en_US.UTF-8'\n",
      "36                    b'CINNAMON_2D'                                                                                                                                                                                        b'1'\n",
      "37          b'CONDA_PROMPT_MODIFIER'                                                                                                                                                                      b'(DeepKorean-23.03) '\n",
      "38                          b'SHLVL'                                                                                                                                                                                        b'1'\n",
      "39              b'LC_IDENTIFICATION'                                                                                                                                                                              b'ko_KR.UTF-8'\n",
      "40                    b'LC_MONETARY'                                                                                                                                                                              b'ko_KR.UTF-8'\n",
      "41                   b'QT_IM_MODULE'                                                                                                                                                                                     b'kime'\n",
      "42             b'PULSE_RUNTIME_PATH'                                                                                                                          b'/home/chris/.config/chrome-remote-desktop/pulseaudio#f54457cf05'\n",
      "43                           b'LANG'                                                                                                                                                                              b'en_US.UTF-8'\n",
      "44          b'GNOME_KEYRING_CONTROL'                                                                                                                                                        b'/home/chris/.cache/keyring-ASJ4Z1'\n",
      "45               b'XDG_SESSION_TYPE'                                                                                                                                                                                      b'x11'\n",
      "46              b'PULSE_CONFIG_PATH'                                                                                                                          b'/home/chris/.config/chrome-remote-desktop/pulseaudio#f54457cf05'\n",
      "47                        b'DISPLAY'                                                                                                                                                                                      b':20'\n",
      "48                     b'PULSE_SINK'                                                                                                                                                            b'chrome_remote_desktop_session'\n",
      "49               b'CINNAMON_VERSION'                                                                                                                                                                                    b'5.2.7'\n",
      "50                        b'LC_NAME'                                                                                                                                                                              b'ko_KR.UTF-8'\n",
      "51                    b'CONDA_SHLVL'                                                                                                                                                                                        b'1'\n",
      "52              b'XDG_SESSION_CLASS'                                                                                                                                                                                     b'user'\n",
      "53                              b'_'                                                                                                                                                                        b'/usr/bin/cinnamon'\n",
      "54                    b'GDK_BACKEND'                                                                                                                                                                                      b'x11'\n",
      "55                 b'GPG_AGENT_INFO'                                                                                                                                                     b'/run/user/1000/gnupg/S.gpg-agent:0:1'\n",
      "56                           b'USER'                                                                                                                                                                                    b'chris'\n",
      "57              b'MUFFIN_NO_SHADOWS'                                                                                                                                                                                        b'1'\n",
      "58  b'GIO_LAUNCHED_DESKTOP_FILE_PID'                                                                                                                                                                                  b'3670800'\n",
      "59               b'QT_ACCESSIBILITY'                                                                                                                                                                                        b'1'\n",
      "60                     b'LC_NUMERIC'                                                                                                                                                                              b'ko_KR.UTF-8'\n",
      "61               b'GJS_DEBUG_OUTPUT'                                                                                                                                                                                   b'stderr'\n",
      "62                  b'SSH_AUTH_SOCK'                                                                                                                                                    b'/home/chris/.cache/keyring-ASJ4Z1/ssh'\n",
      "63          b'GTK_OVERLAY_SCROLLING'                                                                                                                                                                                        b'1'\n",
      "64           b'QT_QPA_PLATFORMTHEME'                                                                                                                                                                                    b'qt5ct'\n",
      "65                           b'HOME'                                                                                                                                                                              b'/home/chris'\n",
      "66          b'PYDEVD_USE_FRAME_EVAL'                                                                                                                                                                                       b'NO'\n",
      "67                 b'JPY_PARENT_PID'                                                                                                                                                                                  b'3675318'\n",
      "68                           b'TERM'                                                                                                                                                                              b'xterm-color'\n",
      "69                       b'CLICOLOR'                                                                                                                                                                                        b'1'\n",
      "70                    b'FORCE_COLOR'                                                                                                                                                                                        b'1'\n",
      "71                 b'CLICOLOR_FORCE'                                                                                                                                                                                        b'1'\n",
      "72                          b'PAGER'                                                                                                                                                                                      b'cat'\n",
      "73                      b'GIT_PAGER'                                                                                                                                                                                      b'cat'\n",
      "74                     b'MPLBACKEND'                                                                                                                                                b'module://matplotlib_inline.backend_inline'\n",
      "75              b'CUDA_DEVICE_ORDER'                                                                                                                                                                               b'PCI_BUS_ID'\n",
      "76           b'CUDA_VISIBLE_DEVICES'                                                                                                                                                                                      b'0,1'\n",
      "                              key                                                                                                                                                                                    value\n",
      "0                            PATH                      /dat/anaconda3/envs/DeepKorean-23.03/bin:/dat/anaconda3/condabin:/usr/local/sbin:/usr/local/bin:/usr/sbin:/usr/bin:/sbin:/bin:/usr/games:/usr/local/games:/snap/bin\n",
      "1                  LC_MEASUREMENT                                                                                                                                                                              ko_KR.UTF-8\n",
      "2                      XAUTHORITY                                                                                                                                                                  /home/chris/.Xauthority\n",
      "3                      XMODIFIERS                                                                                                                                                                                 @im=kime\n",
      "4                    LC_TELEPHONE                                                                                                                                                                              ko_KR.UTF-8\n",
      "5                   XDG_DATA_DIRS                                                               /usr/share/gnome:/home/chris/.local/share/flatpak/exports/share:/var/lib/flatpak/exports/share:/usr/local/share:/usr/share\n",
      "6              CHROME_CONFIG_HOME                                                                                                                                  /home/chris/.config/chrome-remote-desktop/chrome-config\n",
      "7               CONDA_DEFAULT_ENV                                                                                                                                                                         DeepKorean-23.03\n",
      "8                   GTK_IM_MODULE                                                                                                                                                                                     kime\n",
      "9        DBUS_SESSION_BUS_ADDRESS                                                                                                                 unix:abstract=/tmp/dbus-gE8NHdwiuH,guid=62fefcf5084c27076dea357863e34b53\n",
      "10            XDG_CURRENT_DESKTOP                                                                                                                                                                               X-Cinnamon\n",
      "11       CINNAMON_SLOWDOWN_FACTOR                                                                                                                                                                                   0.0001\n",
      "12                   CONDA_PREFIX                                                                                                                                                     /dat/anaconda3/envs/DeepKorean-23.03\n",
      "13          LIBGL_ALWAYS_SOFTWARE                                                                                                                                                                                        1\n",
      "14            CLUTTER_DEFAULT_FPS                                                                                                                                                                                       15\n",
      "15                LD_LIBRARY_PATH                                              /usr/lib/mesa-diverted/x86_64-linux-gnu:/usr/lib/x86_64-linux-gnu/mesa:/usr/lib/x86_64-linux-gnu/dri:/usr/lib/x86_64-linux-gnu/gallium-pipe\n",
      "16  CHROME_REMOTE_DESKTOP_SESSION                                                                                                                                                                                        1\n",
      "17                     LC_COLLATE                                                                                                                                                                              ko_KR.UTF-8\n",
      "18                  QT4_IM_MODULE                                                                                                                                                                                      xim\n",
      "19                       LC_PAPER                                                                                                                                                                              ko_KR.UTF-8\n",
      "20                SESSION_MANAGER                                                                                                                    local/chris137:@/tmp/.ICE-unix/2062,unix/chris137:/tmp/.ICE-unix/2062\n",
      "21    CINNAMON_SOFTWARE_RENDERING                                                                                                                                                                                        1\n",
      "22                        LOGNAME                                                                                                                                                                                    chris\n",
      "23                            PWD                                                                                                                                                               /dat/proj/DeepKorean-23.03\n",
      "24                       LANGUAGE                                                                                                                                                                                         \n",
      "25               GJS_DEBUG_TOPICS                                                                                                                                                                          JS ERROR;JS LOG\n",
      "26                     PYTHONPATH  /dat/proj/DeepKorean-23.03:/dat/proj/DeepKorean-23.03/chrislab/src:/dat/proj/DeepKorean-23.03/ratsnlp:/dat/proj/DeepKorean-23.03/chrisbase/src:/dat/proj/DeepKorean-23.03/chrisdict/src\n",
      "27                          SHELL                                                                                                                                                                                /bin/bash\n",
      "28                     LC_ADDRESS                                                                                                                                                                              ko_KR.UTF-8\n",
      "29               PULSE_STATE_PATH                                                                                                                          /home/chris/.config/chrome-remote-desktop/pulseaudio#f54457cf05\n",
      "30      GIO_LAUNCHED_DESKTOP_FILE                                                                                                                          /home/chris/.local/share/applications/jetbrains-pycharm.desktop\n",
      "31                  CLUTTER_PAINT                                                                                                                                                                          disable-culling\n",
      "32       GNOME_DESKTOP_SESSION_ID                                                                                                                                                                       this-is-deprecated\n",
      "33                    GTK_MODULES                                                                                                                                                                          gail:atk-bridge\n",
      "34              CLUTTER_IM_MODULE                                                                                                                                                                                      xim\n",
      "35                         LC_ALL                                                                                                                                                                              en_US.UTF-8\n",
      "36                    CINNAMON_2D                                                                                                                                                                                        1\n",
      "37          CONDA_PROMPT_MODIFIER                                                                                                                                                                      (DeepKorean-23.03) \n",
      "38                          SHLVL                                                                                                                                                                                        1\n",
      "39              LC_IDENTIFICATION                                                                                                                                                                              ko_KR.UTF-8\n",
      "40                    LC_MONETARY                                                                                                                                                                              ko_KR.UTF-8\n",
      "41                   QT_IM_MODULE                                                                                                                                                                                     kime\n",
      "42             PULSE_RUNTIME_PATH                                                                                                                          /home/chris/.config/chrome-remote-desktop/pulseaudio#f54457cf05\n",
      "43                           LANG                                                                                                                                                                              en_US.UTF-8\n",
      "44          GNOME_KEYRING_CONTROL                                                                                                                                                        /home/chris/.cache/keyring-ASJ4Z1\n",
      "45               XDG_SESSION_TYPE                                                                                                                                                                                      x11\n",
      "46              PULSE_CONFIG_PATH                                                                                                                          /home/chris/.config/chrome-remote-desktop/pulseaudio#f54457cf05\n",
      "47                        DISPLAY                                                                                                                                                                                      :20\n",
      "48                     PULSE_SINK                                                                                                                                                            chrome_remote_desktop_session\n",
      "49               CINNAMON_VERSION                                                                                                                                                                                    5.2.7\n",
      "50                        LC_NAME                                                                                                                                                                              ko_KR.UTF-8\n",
      "51                    CONDA_SHLVL                                                                                                                                                                                        1\n",
      "52              XDG_SESSION_CLASS                                                                                                                                                                                     user\n",
      "53                              _                                                                                                                                                                        /usr/bin/cinnamon\n",
      "54                    GDK_BACKEND                                                                                                                                                                                      x11\n",
      "55                 GPG_AGENT_INFO                                                                                                                                                     /run/user/1000/gnupg/S.gpg-agent:0:1\n",
      "56                           USER                                                                                                                                                                                    chris\n",
      "57              MUFFIN_NO_SHADOWS                                                                                                                                                                                        1\n",
      "58  GIO_LAUNCHED_DESKTOP_FILE_PID                                                                                                                                                                                  3670800\n",
      "59               QT_ACCESSIBILITY                                                                                                                                                                                        1\n",
      "60                     LC_NUMERIC                                                                                                                                                                              ko_KR.UTF-8\n",
      "61               GJS_DEBUG_OUTPUT                                                                                                                                                                                   stderr\n",
      "62                  SSH_AUTH_SOCK                                                                                                                                                    /home/chris/.cache/keyring-ASJ4Z1/ssh\n",
      "63          GTK_OVERLAY_SCROLLING                                                                                                                                                                                        1\n",
      "64           QT_QPA_PLATFORMTHEME                                                                                                                                                                                    qt5ct\n",
      "65                           HOME                                                                                                                                                                              /home/chris\n",
      "66          PYDEVD_USE_FRAME_EVAL                                                                                                                                                                                       NO\n",
      "67                 JPY_PARENT_PID                                                                                                                                                                                  3675318\n",
      "68                           TERM                                                                                                                                                                              xterm-color\n",
      "69                       CLICOLOR                                                                                                                                                                                        1\n",
      "70                    FORCE_COLOR                                                                                                                                                                                        1\n",
      "71                 CLICOLOR_FORCE                                                                                                                                                                                        1\n",
      "72                          PAGER                                                                                                                                                                                      cat\n",
      "73                      GIT_PAGER                                                                                                                                                                                      cat\n",
      "74                     MPLBACKEND                                                                                                                                                module://matplotlib_inline.backend_inline\n",
      "75              CUDA_DEVICE_ORDER                                                                                                                                                                               PCI_BUS_ID\n",
      "76           CUDA_VISIBLE_DEVICES                                                                                                                                                                                      0,1\n"
     ]
    }
   ],
   "source": [
    "import os\n",
    "import sys\n",
    "from pathlib import Path\n",
    "\n",
    "from chrisbase.io import get_current_path\n",
    "from chrisbase.util import to_dataframe\n",
    "from chrisdict import AttrDict\n",
    "\n",
    "env = AttrDict()\n",
    "env[\"python_path\"] = Path(sys.executable)\n",
    "env[\"project_path\"] = [x for x in get_current_path().parents if x.name.startswith(\"DeepKorean\")][0]\n",
    "env[\"current_path\"] = get_current_path().relative_to(env.project_path)\n",
    "env[\"gpus_to_work\"] = \"0,1\"\n",
    "os.chdir(env.project_path)\n",
    "os.environ[\"CUDA_DEVICE_ORDER\"] = \"PCI_BUS_ID\"\n",
    "os.environ[\"CUDA_VISIBLE_DEVICES\"] = env.gpus_to_work\n",
    "print(to_dataframe(env, columns=[\"key\", \"value\"]))\n",
    "print(os.environ)\n",
    "print(to_dataframe(os.environ.__dict__['_data'], columns=[\"key\", \"value\"]))\n",
    "print(to_dataframe(dict(os.environ), columns=[\"key\", \"value\"]))\n",
    "# print(os.environ.__dict__)"
   ],
   "metadata": {
    "collapsed": false
   }
  },
  {
   "cell_type": "markdown",
   "source": [
    "# 각종 설정\n",
    "모델 하이퍼파라메터(hyperparameter)와 저장 위치 등 설정 정보를 선언합니다."
   ],
   "metadata": {
    "collapsed": false
   }
  },
  {
   "cell_type": "code",
   "execution_count": null,
   "outputs": [],
   "source": [
    "from ratsnlp.nlpbook.classification import ClassificationTrainArguments\n",
    "\n",
    "args = ClassificationTrainArguments(\n",
    "    pretrained_model_name=\"pretrained/KcBERT-Base\",\n",
    "    downstream_corpus_name=\"nsmc\",\n",
    "    downstream_corpus_root_dir=\"data\",\n",
    "    downstream_model_dir=\"checkpoints/nsmc\",\n",
    "    batch_size=32,\n",
    "    learning_rate=5e-5,\n",
    "    max_seq_length=128,\n",
    "    epochs=3,\n",
    "    tpu_cores=0,\n",
    "    seed=7,\n",
    ")"
   ],
   "metadata": {
    "collapsed": false
   }
  },
  {
   "cell_type": "markdown",
   "source": [
    "# 랜덤 시드 고정\n",
    "학습 재현을 위해 랜덤 시드를 고정합니다."
   ],
   "metadata": {
    "collapsed": false
   }
  },
  {
   "cell_type": "code",
   "execution_count": null,
   "outputs": [],
   "source": [
    "from ratsnlp import nlpbook\n",
    "\n",
    "nlpbook.set_seed(args)"
   ],
   "metadata": {
    "collapsed": false
   }
  },
  {
   "cell_type": "markdown",
   "source": [
    "# 로거 설정\n",
    "메세지 출력 등을 위한 logger를 설정합니다."
   ],
   "metadata": {
    "collapsed": false
   }
  },
  {
   "cell_type": "code",
   "execution_count": null,
   "outputs": [],
   "source": [
    "nlpbook.set_logger(args)"
   ],
   "metadata": {
    "collapsed": false
   }
  },
  {
   "cell_type": "markdown",
   "source": [
    "# 말뭉치 다운로드\n",
    "실습에 사용할 말뭉치를 다운로드합니다."
   ],
   "metadata": {
    "collapsed": false
   }
  },
  {
   "cell_type": "code",
   "execution_count": null,
   "outputs": [],
   "source": [
    "from Korpora import Korpora\n",
    "\n",
    "Korpora.fetch(\n",
    "    corpus_name=args.downstream_corpus_name,\n",
    "    root_dir=args.downstream_corpus_root_dir,\n",
    ")"
   ],
   "metadata": {
    "collapsed": false
   }
  },
  {
   "cell_type": "markdown",
   "source": [
    "# 토크나이저 준비\n",
    "토큰화를 수행하는 토크나이저를 선언합니다"
   ],
   "metadata": {
    "collapsed": false
   }
  },
  {
   "cell_type": "code",
   "execution_count": null,
   "outputs": [],
   "source": [
    "from transformers import BertTokenizer\n",
    "\n",
    "tokenizer = BertTokenizer.from_pretrained(\n",
    "    args.pretrained_model_name,\n",
    "    do_lower_case=False,\n",
    ")\n",
    "print(tokenizer.tokenize(\"안녕하세요. 반갑습니다.\"))\n",
    "tokenizer"
   ],
   "metadata": {
    "collapsed": false
   }
  },
  {
   "cell_type": "markdown",
   "source": [
    "# 학습데이터 구축\n",
    "학습데이터를 구축합니다."
   ],
   "metadata": {
    "collapsed": false
   }
  },
  {
   "cell_type": "code",
   "execution_count": null,
   "outputs": [],
   "source": [
    "from ratsnlp.nlpbook.classification import NsmcCorpus, ClassificationDataset\n",
    "from torch.utils.data import DataLoader, RandomSampler\n",
    "\n",
    "corpus = NsmcCorpus()\n",
    "train_dataset = ClassificationDataset(\n",
    "    args=args,\n",
    "    corpus=corpus,\n",
    "    tokenizer=tokenizer,\n",
    "    mode=\"train\",\n",
    ")\n",
    "train_dataloader = DataLoader(\n",
    "    train_dataset,\n",
    "    batch_size=args.batch_size,\n",
    "    sampler=RandomSampler(train_dataset, replacement=False),\n",
    "    collate_fn=nlpbook.data_collator,\n",
    "    drop_last=False,\n",
    "    num_workers=args.cpu_workers,\n",
    ")"
   ],
   "metadata": {
    "collapsed": false
   }
  },
  {
   "cell_type": "markdown",
   "source": [
    "# 평가데이터 구축\n",
    "학습 중에 사용할 평가데이터를 구축합니다."
   ],
   "metadata": {
    "collapsed": false
   }
  },
  {
   "cell_type": "code",
   "execution_count": null,
   "outputs": [],
   "source": [
    "from torch.utils.data import SequentialSampler\n",
    "\n",
    "val_dataset = ClassificationDataset(\n",
    "    args=args,\n",
    "    corpus=corpus,\n",
    "    tokenizer=tokenizer,\n",
    "    mode=\"test\",\n",
    ")\n",
    "val_dataloader = DataLoader(\n",
    "    val_dataset,\n",
    "    batch_size=args.batch_size,\n",
    "    sampler=SequentialSampler(val_dataset),\n",
    "    collate_fn=nlpbook.data_collator,\n",
    "    drop_last=False,\n",
    "    num_workers=args.cpu_workers,\n",
    ")"
   ],
   "metadata": {
    "collapsed": false
   }
  },
  {
   "cell_type": "markdown",
   "source": [
    "# 모델 초기화\n",
    "사전학습 모델을 읽고, 문서 분류를 수행할 모델을 초기화합니다."
   ],
   "metadata": {
    "collapsed": false
   }
  },
  {
   "cell_type": "code",
   "execution_count": null,
   "outputs": [],
   "source": [
    "from transformers import BertConfig, BertForSequenceClassification\n",
    "\n",
    "pretrained_model_config = BertConfig.from_pretrained(\n",
    "    args.pretrained_model_name,\n",
    "    num_labels=corpus.num_labels,\n",
    ")\n",
    "model = BertForSequenceClassification.from_pretrained(\n",
    "    args.pretrained_model_name,\n",
    "    config=pretrained_model_config,\n",
    ")"
   ],
   "metadata": {
    "collapsed": false
   }
  },
  {
   "cell_type": "markdown",
   "source": [
    "# 학습 준비\n",
    "Task와 Trainer를 준비합니다."
   ],
   "metadata": {
    "collapsed": false
   }
  },
  {
   "cell_type": "code",
   "execution_count": null,
   "outputs": [],
   "source": [
    "from ratsnlp.nlpbook.classification import ClassificationTask\n",
    "\n",
    "task = ClassificationTask(model, args)"
   ],
   "metadata": {
    "collapsed": false
   }
  },
  {
   "cell_type": "code",
   "execution_count": null,
   "outputs": [],
   "source": [
    "trainer = nlpbook.get_trainer(args)"
   ],
   "metadata": {
    "collapsed": false
   }
  },
  {
   "cell_type": "markdown",
   "source": [
    "# 학습 개시\n",
    "준비한 데이터와 모델로 학습을 시작합니다. 학습 결과물은 미리 세팅한 위치(`args.downstream_model_dir`)에 저장됩니다."
   ],
   "metadata": {
    "collapsed": false
   }
  },
  {
   "cell_type": "code",
   "execution_count": null,
   "outputs": [],
   "source": [
    "trainer.fit(\n",
    "    task,\n",
    "    train_dataloaders=train_dataloader,\n",
    "    val_dataloaders=val_dataloader,\n",
    ")"
   ],
   "metadata": {
    "collapsed": false
   }
  }
 ],
 "metadata": {
  "kernelspec": {
   "display_name": "Python 3",
   "language": "python",
   "name": "python3"
  },
  "language_info": {
   "codemirror_mode": {
    "name": "ipython",
    "version": 2
   },
   "file_extension": ".py",
   "mimetype": "text/x-python",
   "name": "python",
   "nbconvert_exporter": "python",
   "pygments_lexer": "ipython2",
   "version": "2.7.6"
  }
 },
 "nbformat": 4,
 "nbformat_minor": 0
}
