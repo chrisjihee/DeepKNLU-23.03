{
 "cells": [
  {
   "cell_type": "markdown",
   "source": [
    "# 환경 확인\n",
    "현재 프로젝트의 경로를 확인하면서 프로젝트 경로로 디렉토리 이동을 수행합니다."
   ],
   "metadata": {
    "collapsed": false
   }
  },
  {
   "cell_type": "code",
   "execution_count": 17,
   "outputs": [
    {
     "name": "stdout",
     "output_type": "stream",
     "text": [
      "                       os.environ                                                                          \n",
      "0              CHROME_CONFIG_HOME                   /home/chris/.config/chrome-remote-desktop/chrome-config\n",
      "1   CHROME_REMOTE_DESKTOP_SESSION                                                                         1\n",
      "2                     CINNAMON_2D                                                                         1\n",
      "3        CINNAMON_SLOWDOWN_FACTOR                                                                    0.0001\n",
      "4     CINNAMON_SOFTWARE_RENDERING                                                                         1\n",
      "5                CINNAMON_VERSION                                                                     5.2.7\n",
      "6                        CLICOLOR                                                                         1\n",
      "7                  CLICOLOR_FORCE                                                                         1\n",
      "8             CLUTTER_DEFAULT_FPS                                                                        15\n",
      "9               CLUTTER_IM_MODULE                                                                       xim\n",
      "10                  CLUTTER_PAINT                                                           disable-culling\n",
      "11              CONDA_DEFAULT_ENV                                                          DeepKorean-23.03\n",
      "12                   CONDA_PREFIX                                      /dat/anaconda3/envs/DeepKorean-23.03\n",
      "13          CONDA_PROMPT_MODIFIER                                                       (DeepKorean-23.03) \n",
      "14                    CONDA_SHLVL                                                                         1\n",
      "15              CUDA_DEVICE_ORDER                                                                PCI_BUS_ID\n",
      "16           CUDA_VISIBLE_DEVICES                                                                       0,1\n",
      "17       DBUS_SESSION_BUS_ADDRESS  unix:abstract=/tmp/dbus-gE8NHdwiuH,guid=62fefcf5084c27076dea357863e34b53\n",
      "18                        DISPLAY                                                                       :20\n",
      "19                    FORCE_COLOR                                                                         1\n",
      "20                    GDK_BACKEND                                                                       x11\n",
      "21      GIO_LAUNCHED_DESKTOP_FILE           /home/chris/.local/share/applications/jetbrains-pycharm.desktop\n",
      "22  GIO_LAUNCHED_DESKTOP_FILE_PID                                                                   3670800\n",
      "23                      GIT_PAGER                                                                       cat\n",
      "24               GJS_DEBUG_OUTPUT                                                                    stderr\n",
      "25               GJS_DEBUG_TOPICS                                                           JS ERROR;JS LOG\n",
      "26       GNOME_DESKTOP_SESSION_ID                                                        this-is-deprecated\n",
      "27          GNOME_KEYRING_CONTROL                                         /home/chris/.cache/keyring-ASJ4Z1\n",
      "28                 GPG_AGENT_INFO                                      /run/user/1000/gnupg/S.gpg-agent:0:1\n",
      "29                  GTK_IM_MODULE                                                                      kime\n",
      "30                    GTK_MODULES                                                           gail:atk-bridge\n",
      "31          GTK_OVERLAY_SCROLLING                                                                         1\n",
      "32                           HOME                                                               /home/chris\n",
      "33                 JPY_PARENT_PID                                                                   3695562\n",
      "34                           LANG                                                               en_US.UTF-8\n",
      "35                       LANGUAGE                                                                          \n",
      "36                     LC_ADDRESS                                                               ko_KR.UTF-8\n",
      "37                         LC_ALL                                                               en_US.UTF-8\n",
      "38                     LC_COLLATE                                                               ko_KR.UTF-8\n",
      "39              LC_IDENTIFICATION                                                               ko_KR.UTF-8\n",
      "40                 LC_MEASUREMENT                                                               ko_KR.UTF-8\n",
      "41                    LC_MONETARY                                                               ko_KR.UTF-8\n",
      "42                        LC_NAME                                                               ko_KR.UTF-8\n",
      "43                     LC_NUMERIC                                                               ko_KR.UTF-8\n",
      "44                       LC_PAPER                                                               ko_KR.UTF-8\n",
      "45                   LC_TELEPHONE                                                               ko_KR.UTF-8\n",
      "46          LIBGL_ALWAYS_SOFTWARE                                                                         1\n",
      "47                        LOGNAME                                                                     chris\n",
      "48                     MPLBACKEND                                 module://matplotlib_inline.backend_inline\n",
      "49              MUFFIN_NO_SHADOWS                                                                         1\n",
      "50                          PAGER                                                                       cat\n",
      "51              PULSE_CONFIG_PATH           /home/chris/.config/chrome-remote-desktop/pulseaudio#f54457cf05\n",
      "52             PULSE_RUNTIME_PATH           /home/chris/.config/chrome-remote-desktop/pulseaudio#f54457cf05\n",
      "53                     PULSE_SINK                                             chrome_remote_desktop_session\n",
      "54               PULSE_STATE_PATH           /home/chris/.config/chrome-remote-desktop/pulseaudio#f54457cf05\n",
      "55                            PWD                                                /dat/proj/DeepKorean-23.03\n",
      "56          PYDEVD_USE_FRAME_EVAL                                                                        NO\n",
      "57                  QT4_IM_MODULE                                                                       xim\n",
      "58               QT_ACCESSIBILITY                                                                         1\n",
      "59                   QT_IM_MODULE                                                                      kime\n",
      "60           QT_QPA_PLATFORMTHEME                                                                     qt5ct\n",
      "61                SESSION_MANAGER     local/chris137:@/tmp/.ICE-unix/2062,unix/chris137:/tmp/.ICE-unix/2062\n",
      "62                          SHELL                                                                 /bin/bash\n",
      "63                          SHLVL                                                                         1\n",
      "64                  SSH_AUTH_SOCK                                     /home/chris/.cache/keyring-ASJ4Z1/ssh\n",
      "65                           TERM                                                               xterm-color\n",
      "66                           USER                                                                     chris\n",
      "67                     XAUTHORITY                                                   /home/chris/.Xauthority\n",
      "68            XDG_CURRENT_DESKTOP                                                                X-Cinnamon\n",
      "69              XDG_SESSION_CLASS                                                                      user\n",
      "70               XDG_SESSION_TYPE                                                                       x11\n",
      "71                     XMODIFIERS                                                                  @im=kime\n",
      "72                              _                                                         /usr/bin/cinnamon\n",
      "            env                                                 \n",
      "0   python_path  /dat/anaconda3/envs/DeepKorean-23.03/bin/python\n",
      "1  project_path                       /dat/proj/DeepKorean-23.03\n",
      "2  current_path                      tests/1-doc_cls-train.ipynb\n",
      "3  gpus_to_work                                              0,1\n"
     ]
    }
   ],
   "source": [
    "import os\n",
    "import sys\n",
    "from pathlib import Path\n",
    "\n",
    "from chrisbase.io import get_current_path, copy_dict\n",
    "from chrisbase.util import to_dataframe\n",
    "from chrisdict import AttrDict\n",
    "\n",
    "env = AttrDict()\n",
    "env[\"python_path\"] = Path(sys.executable)\n",
    "env[\"project_path\"] = [x for x in get_current_path().parents if x.name.startswith(\"DeepKorean\")][0]\n",
    "env[\"current_path\"] = get_current_path().relative_to(env.project_path)\n",
    "env[\"gpus_to_work\"] = \"0,1\"\n",
    "os.chdir(env.project_path)\n",
    "os.environ[\"CUDA_DEVICE_ORDER\"] = \"PCI_BUS_ID\"\n",
    "os.environ[\"CUDA_VISIBLE_DEVICES\"] = env.gpus_to_work\n",
    "print(to_dataframe(copy_dict(dict(os.environ),\n",
    "                             keys=[x for x in sorted(os.environ.keys()) if len(str(os.environ[x])) <= 100]),\n",
    "                   columns=[\"os.environ\", \"\"]))\n",
    "print(to_dataframe(env, columns=[\"env\", \"\"]))"
   ],
   "metadata": {
    "collapsed": false
   }
  },
  {
   "cell_type": "markdown",
   "source": [
    "# 각종 설정\n",
    "모델 하이퍼파라메터(hyperparameter)와 저장 위치 등 설정 정보를 선언합니다."
   ],
   "metadata": {
    "collapsed": false
   }
  },
  {
   "cell_type": "code",
   "execution_count": null,
   "outputs": [],
   "source": [
    "from ratsnlp.nlpbook.classification import ClassificationTrainArguments\n",
    "\n",
    "args = ClassificationTrainArguments(\n",
    "    pretrained_model_name=\"pretrained/KcBERT-Base\",\n",
    "    downstream_corpus_name=\"nsmc\",\n",
    "    downstream_corpus_root_dir=\"data\",\n",
    "    downstream_model_dir=\"checkpoints/nsmc\",\n",
    "    batch_size=32,\n",
    "    learning_rate=5e-5,\n",
    "    max_seq_length=128,\n",
    "    epochs=3,\n",
    "    tpu_cores=0,\n",
    "    seed=7,\n",
    ")"
   ],
   "metadata": {
    "collapsed": false
   }
  },
  {
   "cell_type": "markdown",
   "source": [
    "# 랜덤 시드 고정\n",
    "학습 재현을 위해 랜덤 시드를 고정합니다."
   ],
   "metadata": {
    "collapsed": false
   }
  },
  {
   "cell_type": "code",
   "execution_count": null,
   "outputs": [],
   "source": [
    "from ratsnlp import nlpbook\n",
    "\n",
    "nlpbook.set_seed(args)"
   ],
   "metadata": {
    "collapsed": false
   }
  },
  {
   "cell_type": "markdown",
   "source": [
    "# 로거 설정\n",
    "메세지 출력 등을 위한 logger를 설정합니다."
   ],
   "metadata": {
    "collapsed": false
   }
  },
  {
   "cell_type": "code",
   "execution_count": null,
   "outputs": [],
   "source": [
    "nlpbook.set_logger(args)"
   ],
   "metadata": {
    "collapsed": false
   }
  },
  {
   "cell_type": "markdown",
   "source": [
    "# 말뭉치 다운로드\n",
    "실습에 사용할 말뭉치를 다운로드합니다."
   ],
   "metadata": {
    "collapsed": false
   }
  },
  {
   "cell_type": "code",
   "execution_count": null,
   "outputs": [],
   "source": [
    "from Korpora import Korpora\n",
    "\n",
    "Korpora.fetch(\n",
    "    corpus_name=args.downstream_corpus_name,\n",
    "    root_dir=args.downstream_corpus_root_dir,\n",
    ")"
   ],
   "metadata": {
    "collapsed": false
   }
  },
  {
   "cell_type": "markdown",
   "source": [
    "# 토크나이저 준비\n",
    "토큰화를 수행하는 토크나이저를 선언합니다"
   ],
   "metadata": {
    "collapsed": false
   }
  },
  {
   "cell_type": "code",
   "execution_count": null,
   "outputs": [],
   "source": [
    "from transformers import BertTokenizer\n",
    "\n",
    "tokenizer = BertTokenizer.from_pretrained(\n",
    "    args.pretrained_model_name,\n",
    "    do_lower_case=False,\n",
    ")\n",
    "print(tokenizer.tokenize(\"안녕하세요. 반갑습니다.\"))\n",
    "tokenizer"
   ],
   "metadata": {
    "collapsed": false
   }
  },
  {
   "cell_type": "markdown",
   "source": [
    "# 학습데이터 구축\n",
    "학습데이터를 구축합니다."
   ],
   "metadata": {
    "collapsed": false
   }
  },
  {
   "cell_type": "code",
   "execution_count": null,
   "outputs": [],
   "source": [
    "from ratsnlp.nlpbook.classification import NsmcCorpus, ClassificationDataset\n",
    "from torch.utils.data import DataLoader, RandomSampler\n",
    "\n",
    "corpus = NsmcCorpus()\n",
    "train_dataset = ClassificationDataset(\n",
    "    args=args,\n",
    "    corpus=corpus,\n",
    "    tokenizer=tokenizer,\n",
    "    mode=\"train\",\n",
    ")\n",
    "train_dataloader = DataLoader(\n",
    "    train_dataset,\n",
    "    batch_size=args.batch_size,\n",
    "    sampler=RandomSampler(train_dataset, replacement=False),\n",
    "    collate_fn=nlpbook.data_collator,\n",
    "    drop_last=False,\n",
    "    num_workers=args.cpu_workers,\n",
    ")"
   ],
   "metadata": {
    "collapsed": false
   }
  },
  {
   "cell_type": "markdown",
   "source": [
    "# 평가데이터 구축\n",
    "학습 중에 사용할 평가데이터를 구축합니다."
   ],
   "metadata": {
    "collapsed": false
   }
  },
  {
   "cell_type": "code",
   "execution_count": null,
   "outputs": [],
   "source": [
    "from torch.utils.data import SequentialSampler\n",
    "\n",
    "val_dataset = ClassificationDataset(\n",
    "    args=args,\n",
    "    corpus=corpus,\n",
    "    tokenizer=tokenizer,\n",
    "    mode=\"test\",\n",
    ")\n",
    "val_dataloader = DataLoader(\n",
    "    val_dataset,\n",
    "    batch_size=args.batch_size,\n",
    "    sampler=SequentialSampler(val_dataset),\n",
    "    collate_fn=nlpbook.data_collator,\n",
    "    drop_last=False,\n",
    "    num_workers=args.cpu_workers,\n",
    ")"
   ],
   "metadata": {
    "collapsed": false
   }
  },
  {
   "cell_type": "markdown",
   "source": [
    "# 모델 초기화\n",
    "사전학습 모델을 읽고, 문서 분류를 수행할 모델을 초기화합니다."
   ],
   "metadata": {
    "collapsed": false
   }
  },
  {
   "cell_type": "code",
   "execution_count": null,
   "outputs": [],
   "source": [
    "from transformers import BertConfig, BertForSequenceClassification\n",
    "\n",
    "pretrained_model_config = BertConfig.from_pretrained(\n",
    "    args.pretrained_model_name,\n",
    "    num_labels=corpus.num_labels,\n",
    ")\n",
    "model = BertForSequenceClassification.from_pretrained(\n",
    "    args.pretrained_model_name,\n",
    "    config=pretrained_model_config,\n",
    ")"
   ],
   "metadata": {
    "collapsed": false
   }
  },
  {
   "cell_type": "markdown",
   "source": [
    "# 학습 준비\n",
    "Task와 Trainer를 준비합니다."
   ],
   "metadata": {
    "collapsed": false
   }
  },
  {
   "cell_type": "code",
   "execution_count": null,
   "outputs": [],
   "source": [
    "from ratsnlp.nlpbook.classification import ClassificationTask\n",
    "\n",
    "task = ClassificationTask(model, args)"
   ],
   "metadata": {
    "collapsed": false
   }
  },
  {
   "cell_type": "code",
   "execution_count": null,
   "outputs": [],
   "source": [
    "trainer = nlpbook.get_trainer(args)"
   ],
   "metadata": {
    "collapsed": false
   }
  },
  {
   "cell_type": "markdown",
   "source": [
    "# 학습 개시\n",
    "준비한 데이터와 모델로 학습을 시작합니다. 학습 결과물은 미리 세팅한 위치(`args.downstream_model_dir`)에 저장됩니다."
   ],
   "metadata": {
    "collapsed": false
   }
  },
  {
   "cell_type": "code",
   "execution_count": null,
   "outputs": [],
   "source": [
    "trainer.fit(\n",
    "    task,\n",
    "    train_dataloaders=train_dataloader,\n",
    "    val_dataloaders=val_dataloader,\n",
    ")"
   ],
   "metadata": {
    "collapsed": false
   }
  }
 ],
 "metadata": {
  "kernelspec": {
   "display_name": "Python 3",
   "language": "python",
   "name": "python3"
  },
  "language_info": {
   "codemirror_mode": {
    "name": "ipython",
    "version": 2
   },
   "file_extension": ".py",
   "mimetype": "text/x-python",
   "name": "python",
   "nbconvert_exporter": "python",
   "pygments_lexer": "ipython2",
   "version": "2.7.6"
  }
 },
 "nbformat": 4,
 "nbformat_minor": 0
}
