{
 "cells": [
  {
   "cell_type": "code",
   "execution_count": 1,
   "metadata": {
    "collapsed": true
   },
   "outputs": [
    {
     "name": "stdout",
     "output_type": "stream",
     "text": [
      "            key                                            value\n",
      "0   python_path  /dat/anaconda3/envs/DeepKorean-23.03/bin/python\n",
      "1  project_path                       /dat/proj/DeepKorean-23.03\n",
      "2  current_path                                 tests/path.ipynb\n"
     ]
    }
   ],
   "source": [
    "import os\n",
    "import sys\n",
    "from pathlib import Path\n",
    "\n",
    "from chrisbase.io import get_current_path\n",
    "from chrisbase.util import to_dataframe\n",
    "from chrisdict import AttrDict\n",
    "\n",
    "env = AttrDict()\n",
    "env[\"python_path\"] = Path(sys.executable)\n",
    "env[\"project_path\"] = [x for x in get_current_path().parents if x.name.startswith(\"DeepKorean\")][0]\n",
    "env[\"current_path\"] = get_current_path().relative_to(env.project_path)\n",
    "os.chdir(env.project_path)\n",
    "print(to_dataframe(env, columns=[\"key\", \"value\"]))"
   ]
  }
 ],
 "metadata": {
  "kernelspec": {
   "display_name": "Python 3",
   "language": "python",
   "name": "python3"
  },
  "language_info": {
   "codemirror_mode": {
    "name": "ipython",
    "version": 2
   },
   "file_extension": ".py",
   "mimetype": "text/x-python",
   "name": "python",
   "nbconvert_exporter": "python",
   "pygments_lexer": "ipython2",
   "version": "2.7.6"
  }
 },
 "nbformat": 4,
 "nbformat_minor": 0
}
