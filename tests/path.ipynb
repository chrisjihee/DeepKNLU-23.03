{
 "cells": [
  {
   "cell_type": "code",
   "execution_count": 1,
   "outputs": [
    {
     "name": "stdout",
     "output_type": "stream",
     "text": [
      "            key                                            value\n",
      "0   python_path  /dat/anaconda3/envs/DeepKorean-23.03/bin/python\n",
      "1  project_path                       /dat/proj/DeepKorean-23.03\n",
      "2  current_path                                 tests/path.ipynb\n"
     ]
    }
   ],
   "source": [
    "import os\n",
    "import sys\n",
    "from pathlib import Path\n",
    "\n",
    "from chrisbase.io import get_current_path\n",
    "from chrisbase.util import to_dataframe\n",
    "from chrisdict import AttrDict\n",
    "\n",
    "env = AttrDict()\n",
    "env[\"python_path\"] = Path(sys.executable)\n",
    "env[\"project_path\"] = [x for x in get_current_path().parents if x.name.startswith(\"DeepKorean\")][0]\n",
    "env[\"current_path\"] = get_current_path().relative_to(env.project_path)\n",
    "os.chdir(env.project_path)\n",
    "print(to_dataframe(env, columns=[\"key\", \"value\"]))"
   ],
   "metadata": {
    "collapsed": false
   }
  },
  {
   "cell_type": "code",
   "execution_count": 2,
   "metadata": {},
   "outputs": [
    {
     "name": "stdout",
     "output_type": "stream",
     "text": [
      "================================================================================\n",
      "- /dat/proj/DeepKorean-23.03/tests\n",
      "- /dat/proj/DeepKorean-23.03\n",
      "- /dat/anaconda3/envs/DeepKorean-23.03/lib/python310.zip\n",
      "- /dat/anaconda3/envs/DeepKorean-23.03/lib/python3.10\n",
      "- /dat/anaconda3/envs/DeepKorean-23.03/lib/python3.10/lib-dynload\n",
      "- \n",
      "- /dat/anaconda3/envs/DeepKorean-23.03/lib/python3.10/site-packages\n",
      "- /dat/proj/DeepKorean-23.03/chrisbase/src\n",
      "- /dat/proj/DeepKorean-23.03/chrisdict/src\n",
      "- /dat/proj/DeepKorean-23.03/chrislab/src\n",
      "- /dat/proj/DeepKorean-23.03/ratsnlp\n",
      "================================================================================\n"
     ]
    }
   ],
   "source": [
    "print(\"=\" * 80)\n",
    "for x in sys.path:\n",
    "    print(f\"- {x}\")\n",
    "print(\"=\" * 80)"
   ]
  },
  {
   "cell_type": "code",
   "execution_count": 3,
   "metadata": {},
   "outputs": [
    {
     "name": "stdout",
     "output_type": "stream",
     "text": [
      "[03.13 21:05:36] [INIT] PathTest\n",
      "Hello, Guest!\n",
      "[03.13 21:05:36] [EXIT] PathTest ($=00:00:00.000)\n"
     ]
    }
   ],
   "source": [
    "from chrisbase.io import MyTimer\n",
    "\n",
    "with MyTimer(\"PathTest\", verbose=True):\n",
    "    print(\"Hello, Guest!\")"
   ]
  }
 ],
 "metadata": {
  "kernelspec": {
   "display_name": "Python 3 (ipykernel)",
   "language": "python",
   "name": "python3"
  },
  "language_info": {
   "codemirror_mode": {
    "name": "ipython",
    "version": 3
   },
   "file_extension": ".py",
   "mimetype": "text/x-python",
   "name": "python",
   "nbconvert_exporter": "python",
   "pygments_lexer": "ipython3",
   "version": "3.9.15"
  }
 },
 "nbformat": 4,
 "nbformat_minor": 1
}
