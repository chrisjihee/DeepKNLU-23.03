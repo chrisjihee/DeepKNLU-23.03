{
 "cells": [
  {
   "cell_type": "code",
   "execution_count": 1,
   "metadata": {},
   "outputs": [
    {
     "name": "stdout",
     "output_type": "stream",
     "text": [
      "================================================================================\n",
      "- /dat/proj/DeepKorean-23.03/tests\n",
      "- /dat/proj/DeepKorean-23.03\n",
      "- /dat/anaconda3/envs/DeepKorean-23.03/lib/python310.zip\n",
      "- /dat/anaconda3/envs/DeepKorean-23.03/lib/python3.10\n",
      "- /dat/anaconda3/envs/DeepKorean-23.03/lib/python3.10/lib-dynload\n",
      "- \n",
      "- /dat/anaconda3/envs/DeepKorean-23.03/lib/python3.10/site-packages\n",
      "================================================================================\n"
     ]
    }
   ],
   "source": [
    "import sys\n",
    "\n",
    "print(\"=\" * 80)\n",
    "for path in sys.path:\n",
    "    print(f\"- {path}\")\n",
    "print(\"=\" * 80)"
   ]
  },
  {
   "cell_type": "code",
   "execution_count": 2,
   "metadata": {},
   "outputs": [
    {
     "name": "stdout",
     "output_type": "stream",
     "text": [
      "[03.13 19:07:47] [INIT] PathTest\n",
      "Hello, Guest!\n",
      "[03.13 19:07:47] [EXIT] PathTest ($=00:00:00.000)\n"
     ]
    }
   ],
   "source": [
    "from chrisbase.io import MyTimer\n",
    "\n",
    "with MyTimer(\"PathTest\", verbose=True):\n",
    "    print(\"Hello, Guest!\")"
   ]
  }
 ],
 "metadata": {
  "kernelspec": {
   "display_name": "Python 3 (ipykernel)",
   "language": "python",
   "name": "python3"
  },
  "language_info": {
   "codemirror_mode": {
    "name": "ipython",
    "version": 3
   },
   "file_extension": ".py",
   "mimetype": "text/x-python",
   "name": "python",
   "nbconvert_exporter": "python",
   "pygments_lexer": "ipython3",
   "version": "3.9.15"
  }
 },
 "nbformat": 4,
 "nbformat_minor": 1
}
