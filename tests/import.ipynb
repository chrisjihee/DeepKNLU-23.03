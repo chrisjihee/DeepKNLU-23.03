{
 "cells": [
  {
   "cell_type": "code",
   "execution_count": 1,
   "outputs": [
    {
     "data": {
      "text/plain": "            key                                            value\n0      hostname                                         chris137\n1      hostaddr                                  129.254.164.137\n2   python_path  /dat/anaconda3/envs/DeepKorean-23.03/bin/python\n3  project_name                                       DeepKorean\n4  project_path                       /dat/proj/DeepKorean-23.03\n5  working_path                       /dat/proj/DeepKorean-23.03\n6  running_file                               tests/import.ipynb",
      "text/html": "<div>\n<style scoped>\n    .dataframe tbody tr th:only-of-type {\n        vertical-align: middle;\n    }\n\n    .dataframe tbody tr th {\n        vertical-align: top;\n    }\n\n    .dataframe thead th {\n        text-align: right;\n    }\n</style>\n<table border=\"1\" class=\"dataframe\">\n  <thead>\n    <tr style=\"text-align: right;\">\n      <th></th>\n      <th>key</th>\n      <th>value</th>\n    </tr>\n  </thead>\n  <tbody>\n    <tr>\n      <th>0</th>\n      <td>hostname</td>\n      <td>chris137</td>\n    </tr>\n    <tr>\n      <th>1</th>\n      <td>hostaddr</td>\n      <td>129.254.164.137</td>\n    </tr>\n    <tr>\n      <th>2</th>\n      <td>python_path</td>\n      <td>/dat/anaconda3/envs/DeepKorean-23.03/bin/python</td>\n    </tr>\n    <tr>\n      <th>3</th>\n      <td>project_name</td>\n      <td>DeepKorean</td>\n    </tr>\n    <tr>\n      <th>4</th>\n      <td>project_path</td>\n      <td>/dat/proj/DeepKorean-23.03</td>\n    </tr>\n    <tr>\n      <th>5</th>\n      <td>working_path</td>\n      <td>/dat/proj/DeepKorean-23.03</td>\n    </tr>\n    <tr>\n      <th>6</th>\n      <td>running_file</td>\n      <td>tests/import.ipynb</td>\n    </tr>\n  </tbody>\n</table>\n</div>"
     },
     "execution_count": 1,
     "metadata": {},
     "output_type": "execute_result"
    }
   ],
   "source": [
    "from chrisbase.io import BasicProjectEnv\n",
    "from chrisbase.util import to_dataframe\n",
    "\n",
    "env = BasicProjectEnv(project_name=\"DeepKorean\")\n",
    "to_dataframe(env)"
   ],
   "metadata": {
    "collapsed": false
   }
  },
  {
   "cell_type": "code",
   "execution_count": 2,
   "metadata": {},
   "outputs": [
    {
     "name": "stdout",
     "output_type": "stream",
     "text": [
      "================================================================================\n",
      "- /dat/proj/DeepKorean-23.03/tests\n",
      "- /dat/proj/DeepKorean-23.03\n",
      "- /dat/proj/DeepKorean-23.03/chrisdict/src\n",
      "- /dat/proj/DeepKorean-23.03/chrisbase/src\n",
      "- /dat/proj/DeepKorean-23.03/transformers/src\n",
      "- /dat/proj/DeepKorean-23.03/ratsnlp\n",
      "- /dat/proj/DeepKorean-23.03/chrislab/src\n",
      "- /dat/anaconda3/envs/DeepKorean-23.03/lib/python310.zip\n",
      "- /dat/anaconda3/envs/DeepKorean-23.03/lib/python3.10\n",
      "- /dat/anaconda3/envs/DeepKorean-23.03/lib/python3.10/lib-dynload\n",
      "- \n",
      "- /dat/anaconda3/envs/DeepKorean-23.03/lib/python3.10/site-packages\n",
      "- /dat/anaconda3/envs/DeepKorean-23.03/lib/python3.10/site-packages/PyQt5_sip-12.11.0-py3.10-linux-x86_64.egg\n",
      "================================================================================\n"
     ]
    }
   ],
   "source": [
    "import sys\n",
    "\n",
    "print(\"=\" * 80)\n",
    "for x in sys.path:\n",
    "    print(f\"- {x}\")\n",
    "print(\"=\" * 80)"
   ]
  },
  {
   "cell_type": "code",
   "execution_count": 3,
   "metadata": {},
   "outputs": [
    {
     "name": "stdout",
     "output_type": "stream",
     "text": [
      "[03.16 22:06:10] [INIT] MyTest\n",
      "Hello, Guest!\n",
      "[03.16 22:06:10] [EXIT] MyTest ($=00:00:00.000)\n"
     ]
    }
   ],
   "source": [
    "from chrisbase.io import MyTimer\n",
    "\n",
    "with MyTimer(\"MyTest\", verbose=True):\n",
    "    print(\"Hello, Guest!\")"
   ]
  }
 ],
 "metadata": {
  "kernelspec": {
   "display_name": "Python 3 (ipykernel)",
   "language": "python",
   "name": "python3"
  },
  "language_info": {
   "codemirror_mode": {
    "name": "ipython",
    "version": 3
   },
   "file_extension": ".py",
   "mimetype": "text/x-python",
   "name": "python",
   "nbconvert_exporter": "python",
   "pygments_lexer": "ipython3",
   "version": "3.9.15"
  }
 },
 "nbformat": 4,
 "nbformat_minor": 1
}
