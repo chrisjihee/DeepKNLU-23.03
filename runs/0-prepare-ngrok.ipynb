{
 "cells": [
  {
   "cell_type": "markdown",
   "source": [
    "# 각종 설정\n",
    "모델 하이퍼파라메터(hyperparameter)와 저장 위치 등 설정 정보를 선언합니다."
   ],
   "metadata": {
    "collapsed": false
   }
  },
  {
   "cell_type": "code",
   "execution_count": 1,
   "outputs": [
    {
     "data": {
      "text/plain": "            key                                                      value\n0      hostname                                                      dl012\n1      hostaddr                                             129.254.182.78\n2   python_path  /data/dlt/mambaforge/envs/DeepKorean-23.03/bin/python3.10\n3  project_name                                                 DeepKorean\n4  project_path                            /data/dlt/proj/DeepKorean-23.03\n5  working_path                            /data/dlt/proj/DeepKorean-23.03\n6  running_file                             practice/0-prepare-ngrok.ipynb",
      "text/html": "<div>\n<style scoped>\n    .dataframe tbody tr th:only-of-type {\n        vertical-align: middle;\n    }\n\n    .dataframe tbody tr th {\n        vertical-align: top;\n    }\n\n    .dataframe thead th {\n        text-align: right;\n    }\n</style>\n<table border=\"1\" class=\"dataframe\">\n  <thead>\n    <tr style=\"text-align: right;\">\n      <th></th>\n      <th>key</th>\n      <th>value</th>\n    </tr>\n  </thead>\n  <tbody>\n    <tr>\n      <th>0</th>\n      <td>hostname</td>\n      <td>dl012</td>\n    </tr>\n    <tr>\n      <th>1</th>\n      <td>hostaddr</td>\n      <td>129.254.182.78</td>\n    </tr>\n    <tr>\n      <th>2</th>\n      <td>python_path</td>\n      <td>/data/dlt/mambaforge/envs/DeepKorean-23.03/bin/python3.10</td>\n    </tr>\n    <tr>\n      <th>3</th>\n      <td>project_name</td>\n      <td>DeepKorean</td>\n    </tr>\n    <tr>\n      <th>4</th>\n      <td>project_path</td>\n      <td>/data/dlt/proj/DeepKorean-23.03</td>\n    </tr>\n    <tr>\n      <th>5</th>\n      <td>working_path</td>\n      <td>/data/dlt/proj/DeepKorean-23.03</td>\n    </tr>\n    <tr>\n      <th>6</th>\n      <td>running_file</td>\n      <td>practice/0-prepare-ngrok.ipynb</td>\n    </tr>\n  </tbody>\n</table>\n</div>"
     },
     "execution_count": 1,
     "metadata": {},
     "output_type": "execute_result"
    }
   ],
   "source": [
    "from chrisbase.util import to_dataframe\n",
    "from chrislab.common.util import BaseProjectEnv\n",
    "\n",
    "env = BaseProjectEnv(project_name=\"DeepKorean\")\n",
    "to_dataframe(env)"
   ],
   "metadata": {
    "collapsed": false
   }
  },
  {
   "cell_type": "markdown",
   "source": [
    "# 웹서비스 준비\n",
    "\n",
    "`ngrok`은 로컬에서 실행 중인 웹서비스를 안전하게 외부에서 접근 가능하도록 해주는 도구입니다.\n",
    "1. [https://dashboard.ngrok.com/signup](https://dashboard.ngrok.com/signup)\n",
    "2. [https://dashboard.ngrok.com/login](https://dashboard.ngrok.com/login)\n",
    "3. [https://dashboard.ngrok.com/get-started/your-authtoken](https://dashboard.ngrok.com/get-started/your-authtoken)"
   ],
   "metadata": {
    "collapsed": false
   }
  },
  {
   "cell_type": "code",
   "execution_count": 2,
   "outputs": [
    {
     "name": "stdout",
     "output_type": "stream",
     "text": [
      "-rwxrwxrwx 1 dlt etri 20213760 Mar 14 08:37 /data/dlt/proj/DeepKorean-23.03/ngrok/ngrok3\r\n"
     ]
    }
   ],
   "source": [
    "import flask_ngrok\n",
    "\n",
    "ngrok_ver = 3\n",
    "ngrok_path = env.working_path / \"ngrok\"\n",
    "ngrok_file = flask_ngrok._get_command(v=ngrok_ver)\n",
    "ngrok_exe = ngrok_path / ngrok_file\n",
    "!chmod 777 {ngrok_exe}\n",
    "!ls -al {ngrok_exe}"
   ],
   "metadata": {
    "collapsed": false
   }
  },
  {
   "cell_type": "code",
   "execution_count": 3,
   "outputs": [
    {
     "name": "stdout",
     "output_type": "stream",
     "text": [
      "Authtoken saved to configuration file: /data/dlt/.ngrok2/ngrok.yml\r\n"
     ]
    }
   ],
   "source": [
    "your_authtoken = \"2NHZJsBLbOgcBLEmZTmuvJaOJM2_2VHnFpENJjTg5dwsSLjiE\"\n",
    "if ngrok_ver < 3:\n",
    "    !{ngrok_exe} authtoken {your_authtoken}\n",
    "else:\n",
    "    !{ngrok_exe} config add-authtoken {your_authtoken}"
   ],
   "metadata": {
    "collapsed": false
   }
  },
  {
   "cell_type": "code",
   "execution_count": 4,
   "outputs": [
    {
     "name": "stdout",
     "output_type": "stream",
     "text": [
      "authtoken: 2NHZJsBLbOgcBLEmZTmuvJaOJM2_2VHnFpENJjTg5dwsSLjiE\r\n",
      "version: \"2\"\r\n"
     ]
    }
   ],
   "source": [
    "!cat \"$HOME/.ngrok2/ngrok.yml\""
   ],
   "metadata": {
    "collapsed": false
   }
  }
 ],
 "metadata": {
  "kernelspec": {
   "display_name": "Python 3",
   "language": "python",
   "name": "python3"
  },
  "language_info": {
   "codemirror_mode": {
    "name": "ipython",
    "version": 2
   },
   "file_extension": ".py",
   "mimetype": "text/x-python",
   "name": "python",
   "nbconvert_exporter": "python",
   "pygments_lexer": "ipython2",
   "version": "2.7.6"
  }
 },
 "nbformat": 4,
 "nbformat_minor": 0
}
