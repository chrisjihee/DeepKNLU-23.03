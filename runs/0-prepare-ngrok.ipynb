{
 "cells": [
  {
   "cell_type": "markdown",
   "source": [
    "# 웹서비스 준비\n",
    "\n",
    "`ngrok`은 로컬에서 실행 중인 웹서비스를 안전하게 외부에서 접근 가능하도록 해주는 도구입니다.\n",
    "1. 가입: [https://dashboard.ngrok.com/signup](https://dashboard.ngrok.com/signup)\n",
    "2. 접속: [https://dashboard.ngrok.com/login](https://dashboard.ngrok.com/login)\n",
    "3. 확인: [https://dashboard.ngrok.com/get-started/your-authtoken](https://dashboard.ngrok.com/get-started/your-authtoken)"
   ],
   "metadata": {
    "collapsed": false
   }
  },
  {
   "cell_type": "code",
   "execution_count": 1,
   "outputs": [
    {
     "data": {
      "text/plain": "            key                                                         value\n0      env_type                                                BaseProjectEnv\n1      hostname                                               172.20.nate.com\n2      hostaddr                                                   172.20.10.5\n3   python_path  /Users/chris/mambaforge/envs/DeepKorean-23.03/bin/python3.10\n4  project_name                                                    DeepKorean\n5  working_path                            /Users/chris/proj/DeepKorean-23.03\n6  running_file                                    runs/0-prepare-ngrok.ipynb",
      "text/html": "<div>\n<style scoped>\n    .dataframe tbody tr th:only-of-type {\n        vertical-align: middle;\n    }\n\n    .dataframe tbody tr th {\n        vertical-align: top;\n    }\n\n    .dataframe thead th {\n        text-align: right;\n    }\n</style>\n<table border=\"1\" class=\"dataframe\">\n  <thead>\n    <tr style=\"text-align: right;\">\n      <th></th>\n      <th>key</th>\n      <th>value</th>\n    </tr>\n  </thead>\n  <tbody>\n    <tr>\n      <th>0</th>\n      <td>env_type</td>\n      <td>BaseProjectEnv</td>\n    </tr>\n    <tr>\n      <th>1</th>\n      <td>hostname</td>\n      <td>172.20.nate.com</td>\n    </tr>\n    <tr>\n      <th>2</th>\n      <td>hostaddr</td>\n      <td>172.20.10.5</td>\n    </tr>\n    <tr>\n      <th>3</th>\n      <td>python_path</td>\n      <td>/Users/chris/mambaforge/envs/DeepKorean-23.03/bin/python3.10</td>\n    </tr>\n    <tr>\n      <th>4</th>\n      <td>project_name</td>\n      <td>DeepKorean</td>\n    </tr>\n    <tr>\n      <th>5</th>\n      <td>working_path</td>\n      <td>/Users/chris/proj/DeepKorean-23.03</td>\n    </tr>\n    <tr>\n      <th>6</th>\n      <td>running_file</td>\n      <td>runs/0-prepare-ngrok.ipynb</td>\n    </tr>\n  </tbody>\n</table>\n</div>"
     },
     "execution_count": 1,
     "metadata": {},
     "output_type": "execute_result"
    }
   ],
   "source": [
    "from chrisbase.util import to_dataframe\n",
    "from chrislab.common.util import BaseProjectEnv\n",
    "\n",
    "env = BaseProjectEnv(project_name=\"DeepKorean\")\n",
    "to_dataframe(env)"
   ],
   "metadata": {
    "collapsed": false
   }
  },
  {
   "cell_type": "code",
   "execution_count": 2,
   "outputs": [
    {
     "name": "stdout",
     "output_type": "stream",
     "text": [
      "Authtoken saved to configuration file: /Users/chris/Library/Application Support/ngrok/ngrok.yml\n",
      "ls: /Users/chris/Library/Application: No such file or directory\r\n",
      "ls: Support/ngrok/ngrok.yml: No such file or directory\r\n",
      "-rwxrwxrwx@ 1 chris  staff  22415432 Mar 23 20:18 \u001B[31m/Users/chris/proj/DeepKorean-23.03/ngrok/ngrok3\u001B[m\u001B[m\r\n"
     ]
    }
   ],
   "source": [
    "import flask_ngrok\n",
    "\n",
    "ngrok_ver = 3\n",
    "ngrok_home = env.working_path\n",
    "authtoken = \"2NHZJsBLbOgcBLEmZTmuvJaOJM2_2VHnFpENJjTg5dwsSLjiE\"\n",
    "\n",
    "ngrok_exe = flask_ngrok.install_ngrok(home=ngrok_home, ver=ngrok_ver)\n",
    "ngrok_cfg = flask_ngrok.configure_ngrok(authtoken=authtoken, home=ngrok_home, ver=ngrok_ver)\n",
    "!ls -al {ngrok_exe} {ngrok_cfg}"
   ],
   "metadata": {
    "collapsed": false
   }
  },
  {
   "cell_type": "code",
   "execution_count": 3,
   "outputs": [
    {
     "name": "stdout",
     "output_type": "stream",
     "text": [
      "version: \"2\"\r\n",
      "authtoken: 2NHZJsBLbOgcBLEmZTmuvJaOJM2_2VHnFpENJjTg5dwsSLjiE\r\n"
     ]
    }
   ],
   "source": [
    "!cat \"{ngrok_cfg}\""
   ],
   "metadata": {
    "collapsed": false
   }
  }
 ],
 "metadata": {
  "kernelspec": {
   "display_name": "Python 3",
   "language": "python",
   "name": "python3"
  },
  "language_info": {
   "codemirror_mode": {
    "name": "ipython",
    "version": 2
   },
   "file_extension": ".py",
   "mimetype": "text/x-python",
   "name": "python",
   "nbconvert_exporter": "python",
   "pygments_lexer": "ipython2",
   "version": "2.7.6"
  }
 },
 "nbformat": 4,
 "nbformat_minor": 0
}
