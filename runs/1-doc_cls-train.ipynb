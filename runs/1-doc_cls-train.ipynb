{
 "cells": [
  {
   "cell_type": "markdown",
   "source": [
    "# 각종 설정\n",
    "모델 하이퍼파라메터(hyperparameter)와 저장 위치 등 설정 정보를 선언합니다."
   ],
   "metadata": {
    "collapsed": false
   }
  },
  {
   "cell_type": "code",
   "execution_count": 10,
   "outputs": [],
   "source": [
    "from chrisbase.time import now\n",
    "from chrislab.common.util import GpuProjectEnv\n",
    "from ratsnlp.nlpbook.classification.arguments import ClassificationTrainArguments\n",
    "\n",
    "config = ClassificationTrainArguments(\n",
    "    env=GpuProjectEnv(project_name=\"DeepKorean\", working_gpus=\"0\"),\n",
    "    pretrained_model_path=\"model/pretrained/KcBERT-Base\",\n",
    "    downstream_model_home=f\"model/finetuned/nsmc-{now('%m%d_%H%M')}\",\n",
    "    downstream_model_file=\"{epoch}-{val_loss:.3f}-{val_acc:.3f}\",\n",
    "    downstream_data_home=\"data\",\n",
    "    downstream_data_name=\"nsmc\",\n",
    "    learning_rate=5e-5,\n",
    "    max_seq_length=128,\n",
    "    batch_size=360,\n",
    "    epochs=1,\n",
    "    seed=7,\n",
    ").save_working_config()"
   ],
   "metadata": {
    "collapsed": false
   }
  },
  {
   "cell_type": "code",
   "execution_count": 11,
   "outputs": [
    {
     "data": {
      "text/plain": "   ClassificationTrainArguments                                                      value\n0                  env.env_type                                              GpuProjectEnv\n1                  env.hostname                                                      dl012\n2                  env.hostaddr                                             129.254.182.78\n3               env.python_path  /data/dlt/mambaforge/envs/DeepKorean-23.03/bin/python3.10\n4              env.project_name                                                 DeepKorean\n5              env.working_path                            /data/dlt/proj/DeepKorean-23.03\n6              env.running_file                                 runs/1-doc_cls-train.ipynb\n7              env.working_gpus                                                          0\n8            env.number_of_gpus                                                          1\n9         pretrained_model_path                               model/pretrained/KcBERT-Base\n10        downstream_model_home                             model/finetuned/nsmc-0322_0437\n11        downstream_model_file                       {epoch}-{val_loss:.3f}-{val_acc:.3f}\n12         downstream_task_name                                    document-classification\n13               max_seq_length                                                        128\n14          working_config_file                                       1-doc_cls-train.json\n15         downstream_data_home                                                       data\n16         downstream_data_name                                                       nsmc\n17                   save_top_k                                                          1\n18                      monitor                                               min val_loss\n19                         seed                                                          7\n20              overwrite_cache                                                      False\n21               force_download                                                      False\n22                    test_mode                                                      False\n23                learning_rate                                                    0.00005\n24                       epochs                                                          1\n25                   batch_size                                                        360\n26                  cpu_workers                                                         64\n27                         fp16                                                      False",
      "text/html": "<div>\n<style scoped>\n    .dataframe tbody tr th:only-of-type {\n        vertical-align: middle;\n    }\n\n    .dataframe tbody tr th {\n        vertical-align: top;\n    }\n\n    .dataframe thead th {\n        text-align: right;\n    }\n</style>\n<table border=\"1\" class=\"dataframe\">\n  <thead>\n    <tr style=\"text-align: right;\">\n      <th></th>\n      <th>ClassificationTrainArguments</th>\n      <th>value</th>\n    </tr>\n  </thead>\n  <tbody>\n    <tr>\n      <th>0</th>\n      <td>env.env_type</td>\n      <td>GpuProjectEnv</td>\n    </tr>\n    <tr>\n      <th>1</th>\n      <td>env.hostname</td>\n      <td>dl012</td>\n    </tr>\n    <tr>\n      <th>2</th>\n      <td>env.hostaddr</td>\n      <td>129.254.182.78</td>\n    </tr>\n    <tr>\n      <th>3</th>\n      <td>env.python_path</td>\n      <td>/data/dlt/mambaforge/envs/DeepKorean-23.03/bin/python3.10</td>\n    </tr>\n    <tr>\n      <th>4</th>\n      <td>env.project_name</td>\n      <td>DeepKorean</td>\n    </tr>\n    <tr>\n      <th>5</th>\n      <td>env.working_path</td>\n      <td>/data/dlt/proj/DeepKorean-23.03</td>\n    </tr>\n    <tr>\n      <th>6</th>\n      <td>env.running_file</td>\n      <td>runs/1-doc_cls-train.ipynb</td>\n    </tr>\n    <tr>\n      <th>7</th>\n      <td>env.working_gpus</td>\n      <td>0</td>\n    </tr>\n    <tr>\n      <th>8</th>\n      <td>env.number_of_gpus</td>\n      <td>1</td>\n    </tr>\n    <tr>\n      <th>9</th>\n      <td>pretrained_model_path</td>\n      <td>model/pretrained/KcBERT-Base</td>\n    </tr>\n    <tr>\n      <th>10</th>\n      <td>downstream_model_home</td>\n      <td>model/finetuned/nsmc-0322_0437</td>\n    </tr>\n    <tr>\n      <th>11</th>\n      <td>downstream_model_file</td>\n      <td>{epoch}-{val_loss:.3f}-{val_acc:.3f}</td>\n    </tr>\n    <tr>\n      <th>12</th>\n      <td>downstream_task_name</td>\n      <td>document-classification</td>\n    </tr>\n    <tr>\n      <th>13</th>\n      <td>max_seq_length</td>\n      <td>128</td>\n    </tr>\n    <tr>\n      <th>14</th>\n      <td>working_config_file</td>\n      <td>1-doc_cls-train.json</td>\n    </tr>\n    <tr>\n      <th>15</th>\n      <td>downstream_data_home</td>\n      <td>data</td>\n    </tr>\n    <tr>\n      <th>16</th>\n      <td>downstream_data_name</td>\n      <td>nsmc</td>\n    </tr>\n    <tr>\n      <th>17</th>\n      <td>save_top_k</td>\n      <td>1</td>\n    </tr>\n    <tr>\n      <th>18</th>\n      <td>monitor</td>\n      <td>min val_loss</td>\n    </tr>\n    <tr>\n      <th>19</th>\n      <td>seed</td>\n      <td>7</td>\n    </tr>\n    <tr>\n      <th>20</th>\n      <td>overwrite_cache</td>\n      <td>False</td>\n    </tr>\n    <tr>\n      <th>21</th>\n      <td>force_download</td>\n      <td>False</td>\n    </tr>\n    <tr>\n      <th>22</th>\n      <td>test_mode</td>\n      <td>False</td>\n    </tr>\n    <tr>\n      <th>23</th>\n      <td>learning_rate</td>\n      <td>0.00005</td>\n    </tr>\n    <tr>\n      <th>24</th>\n      <td>epochs</td>\n      <td>1</td>\n    </tr>\n    <tr>\n      <th>25</th>\n      <td>batch_size</td>\n      <td>360</td>\n    </tr>\n    <tr>\n      <th>26</th>\n      <td>cpu_workers</td>\n      <td>64</td>\n    </tr>\n    <tr>\n      <th>27</th>\n      <td>fp16</td>\n      <td>False</td>\n    </tr>\n  </tbody>\n</table>\n</div>"
     },
     "execution_count": 2,
     "metadata": {},
     "output_type": "execute_result"
    },
    {
     "data": {
      "text/plain": "   ClassificationTrainArguments                                                      value\n0                  env.env_type                                              GpuProjectEnv\n1                  env.hostname                                                      dl012\n2                  env.hostaddr                                             129.254.182.78\n3               env.python_path  /data/dlt/mambaforge/envs/DeepKorean-23.03/bin/python3.10\n4              env.project_name                                                 DeepKorean\n5              env.working_path                            /data/dlt/proj/DeepKorean-23.03\n6              env.running_file                                 runs/1-doc_cls-train.ipynb\n7              env.working_gpus                                                          0\n8            env.number_of_gpus                                                          1\n9         pretrained_model_path                               model/pretrained/KcBERT-Base\n10        downstream_model_home                             model/finetuned/nsmc-0322_0441\n11        downstream_model_file                       {epoch}-{val_loss:.3f}-{val_acc:.3f}\n12         downstream_task_name                                    document-classification\n13               max_seq_length                                                        128\n14          working_config_file                                       1-doc_cls-train.json\n15         downstream_data_home                                                       data\n16         downstream_data_name                                                       nsmc\n17                   save_top_k                                                          1\n18                      monitor                                               min val_loss\n19                         seed                                                          7\n20              overwrite_cache                                                      False\n21               force_download                                                      False\n22                    test_mode                                                      False\n23                learning_rate                                                    0.00005\n24                       epochs                                                          1\n25                   batch_size                                                        360\n26                  cpu_workers                                                         64\n27                         fp16                                                      False",
      "text/html": "<div>\n<style scoped>\n    .dataframe tbody tr th:only-of-type {\n        vertical-align: middle;\n    }\n\n    .dataframe tbody tr th {\n        vertical-align: top;\n    }\n\n    .dataframe thead th {\n        text-align: right;\n    }\n</style>\n<table border=\"1\" class=\"dataframe\">\n  <thead>\n    <tr style=\"text-align: right;\">\n      <th></th>\n      <th>ClassificationTrainArguments</th>\n      <th>value</th>\n    </tr>\n  </thead>\n  <tbody>\n    <tr>\n      <th>0</th>\n      <td>env.env_type</td>\n      <td>GpuProjectEnv</td>\n    </tr>\n    <tr>\n      <th>1</th>\n      <td>env.hostname</td>\n      <td>dl012</td>\n    </tr>\n    <tr>\n      <th>2</th>\n      <td>env.hostaddr</td>\n      <td>129.254.182.78</td>\n    </tr>\n    <tr>\n      <th>3</th>\n      <td>env.python_path</td>\n      <td>/data/dlt/mambaforge/envs/DeepKorean-23.03/bin/python3.10</td>\n    </tr>\n    <tr>\n      <th>4</th>\n      <td>env.project_name</td>\n      <td>DeepKorean</td>\n    </tr>\n    <tr>\n      <th>5</th>\n      <td>env.working_path</td>\n      <td>/data/dlt/proj/DeepKorean-23.03</td>\n    </tr>\n    <tr>\n      <th>6</th>\n      <td>env.running_file</td>\n      <td>runs/1-doc_cls-train.ipynb</td>\n    </tr>\n    <tr>\n      <th>7</th>\n      <td>env.working_gpus</td>\n      <td>0</td>\n    </tr>\n    <tr>\n      <th>8</th>\n      <td>env.number_of_gpus</td>\n      <td>1</td>\n    </tr>\n    <tr>\n      <th>9</th>\n      <td>pretrained_model_path</td>\n      <td>model/pretrained/KcBERT-Base</td>\n    </tr>\n    <tr>\n      <th>10</th>\n      <td>downstream_model_home</td>\n      <td>model/finetuned/nsmc-0322_0441</td>\n    </tr>\n    <tr>\n      <th>11</th>\n      <td>downstream_model_file</td>\n      <td>{epoch}-{val_loss:.3f}-{val_acc:.3f}</td>\n    </tr>\n    <tr>\n      <th>12</th>\n      <td>downstream_task_name</td>\n      <td>document-classification</td>\n    </tr>\n    <tr>\n      <th>13</th>\n      <td>max_seq_length</td>\n      <td>128</td>\n    </tr>\n    <tr>\n      <th>14</th>\n      <td>working_config_file</td>\n      <td>1-doc_cls-train.json</td>\n    </tr>\n    <tr>\n      <th>15</th>\n      <td>downstream_data_home</td>\n      <td>data</td>\n    </tr>\n    <tr>\n      <th>16</th>\n      <td>downstream_data_name</td>\n      <td>nsmc</td>\n    </tr>\n    <tr>\n      <th>17</th>\n      <td>save_top_k</td>\n      <td>1</td>\n    </tr>\n    <tr>\n      <th>18</th>\n      <td>monitor</td>\n      <td>min val_loss</td>\n    </tr>\n    <tr>\n      <th>19</th>\n      <td>seed</td>\n      <td>7</td>\n    </tr>\n    <tr>\n      <th>20</th>\n      <td>overwrite_cache</td>\n      <td>False</td>\n    </tr>\n    <tr>\n      <th>21</th>\n      <td>force_download</td>\n      <td>False</td>\n    </tr>\n    <tr>\n      <th>22</th>\n      <td>test_mode</td>\n      <td>False</td>\n    </tr>\n    <tr>\n      <th>23</th>\n      <td>learning_rate</td>\n      <td>0.00005</td>\n    </tr>\n    <tr>\n      <th>24</th>\n      <td>epochs</td>\n      <td>1</td>\n    </tr>\n    <tr>\n      <th>25</th>\n      <td>batch_size</td>\n      <td>360</td>\n    </tr>\n    <tr>\n      <th>26</th>\n      <td>cpu_workers</td>\n      <td>64</td>\n    </tr>\n    <tr>\n      <th>27</th>\n      <td>fp16</td>\n      <td>False</td>\n    </tr>\n  </tbody>\n</table>\n</div>"
     },
     "execution_count": 11,
     "metadata": {},
     "output_type": "execute_result"
    }
   ],
   "source": [
    "from pathlib import Path\n",
    "\n",
    "config = Path(config)\n",
    "assert config.exists(), f\"No config file: {config}\"\n",
    "args = ClassificationTrainArguments.from_json(config.read_text())\n",
    "args.as_dataframe()"
   ],
   "metadata": {
    "collapsed": false
   }
  },
  {
   "cell_type": "markdown",
   "source": [
    "# 랜덤 시드 고정 및 로거 설정\n",
    "학습 재현을 위해 랜덤 시드를 고정 후, 로거를 설정합니다"
   ],
   "metadata": {
    "collapsed": false
   }
  },
  {
   "cell_type": "code",
   "execution_count": 12,
   "outputs": [
    {
     "name": "stdout",
     "output_type": "stream",
     "text": [
      "set seed: 7\n",
      "set seed: 7\n"
     ]
    }
   ],
   "source": [
    "from ratsnlp import nlpbook\n",
    "\n",
    "nlpbook.set_seed(args)\n",
    "nlpbook.set_logger()"
   ],
   "metadata": {
    "collapsed": false
   }
  },
  {
   "cell_type": "markdown",
   "source": [
    "# 말뭉치 다운로드\n",
    "실습에 사용할 말뭉치를 다운로드합니다."
   ],
   "metadata": {
    "collapsed": false
   }
  },
  {
   "cell_type": "code",
   "execution_count": 13,
   "outputs": [
    {
     "name": "stdout",
     "output_type": "stream",
     "text": [
      "[Korpora] Corpus `nsmc` is already installed at /data/dlt/proj/DeepKorean-23.03/data/nsmc/ratings_train.txt\n",
      "[Korpora] Corpus `nsmc` is already installed at /data/dlt/proj/DeepKorean-23.03/data/nsmc/ratings_test.txt\n",
      "[Korpora] Corpus `nsmc` is already installed at /data/dlt/proj/DeepKorean-23.03/data/nsmc/ratings_train.txt\n",
      "[Korpora] Corpus `nsmc` is already installed at /data/dlt/proj/DeepKorean-23.03/data/nsmc/ratings_test.txt\n"
     ]
    }
   ],
   "source": [
    "from Korpora import Korpora\n",
    "\n",
    "Korpora.fetch(\n",
    "    corpus_name=args.downstream_data_name,\n",
    "    root_dir=args.downstream_data_home,\n",
    ")"
   ],
   "metadata": {
    "collapsed": false
   }
  },
  {
   "cell_type": "markdown",
   "source": [
    "# 토크나이저 준비\n",
    "토큰화를 수행하는 토크나이저를 선언합니다"
   ],
   "metadata": {
    "collapsed": false
   }
  },
  {
   "cell_type": "code",
   "execution_count": 14,
   "outputs": [
    {
     "name": "stdout",
     "output_type": "stream",
     "text": [
      "tokenized=['안녕', '##하세요', '.', '반', '##갑', '##습니다', '.']\n"
     ]
    },
    {
     "data": {
      "text/plain": "BertTokenizer(name_or_path='model/pretrained/KcBERT-Base', vocab_size=30000, model_max_length=300, is_fast=False, padding_side='right', truncation_side='right', special_tokens={'unk_token': '[UNK]', 'sep_token': '[SEP]', 'pad_token': '[PAD]', 'cls_token': '[CLS]', 'mask_token': '[MASK]'})"
     },
     "execution_count": 5,
     "metadata": {},
     "output_type": "execute_result"
    },
    {
     "name": "stdout",
     "output_type": "stream",
     "text": [
      "tokenized=['안녕', '##하세요', '.', '반', '##갑', '##습니다', '.']\n"
     ]
    },
    {
     "data": {
      "text/plain": "BertTokenizer(name_or_path='model/pretrained/KcBERT-Base', vocab_size=30000, model_max_length=300, is_fast=False, padding_side='right', truncation_side='right', special_tokens={'unk_token': '[UNK]', 'sep_token': '[SEP]', 'pad_token': '[PAD]', 'cls_token': '[CLS]', 'mask_token': '[MASK]'})"
     },
     "execution_count": 14,
     "metadata": {},
     "output_type": "execute_result"
    }
   ],
   "source": [
    "from transformers import BertTokenizer\n",
    "\n",
    "tokenizer = BertTokenizer.from_pretrained(\n",
    "    args.pretrained_model_path,\n",
    "    do_lower_case=False,\n",
    ")\n",
    "print(f\"tokenized={tokenizer.tokenize('안녕하세요. 반갑습니다.')}\")\n",
    "tokenizer"
   ],
   "metadata": {
    "collapsed": false
   }
  },
  {
   "cell_type": "markdown",
   "source": [
    "# 학습데이터 구축\n",
    "학습데이터를 구축합니다."
   ],
   "metadata": {
    "collapsed": false
   }
  },
  {
   "cell_type": "code",
   "execution_count": 15,
   "outputs": [
    {
     "name": "stderr",
     "output_type": "stream",
     "text": [
      "INFO:ratsnlp:Loading features from cached file data/nsmc/cached_train_BertTokenizer_128_nsmc_document-classification [took 21.472 s]\n",
      "INFO:ratsnlp:Loading features from cached file data/nsmc/cached_train_BertTokenizer_128_nsmc_document-classification [took 21.691 s]\n",
      "INFO:ratsnlp:Loading features from cached file data/nsmc/cached_train_BertTokenizer_128_nsmc_document-classification [took 21.691 s]\n"
     ]
    }
   ],
   "source": [
    "from ratsnlp.nlpbook.classification.corpus import NsmcCorpus, ClassificationDataset\n",
    "from torch.utils.data import DataLoader, RandomSampler\n",
    "\n",
    "corpus = NsmcCorpus()\n",
    "train_dataset = ClassificationDataset(\n",
    "    args=args,\n",
    "    corpus=corpus,\n",
    "    tokenizer=tokenizer,\n",
    "    mode=\"train\",\n",
    ")\n",
    "train_dataloader = DataLoader(\n",
    "    train_dataset,\n",
    "    batch_size=args.batch_size,\n",
    "    sampler=RandomSampler(train_dataset, replacement=False),\n",
    "    collate_fn=nlpbook.data_collator,\n",
    "    drop_last=False,\n",
    "    num_workers=args.cpu_workers,\n",
    ")"
   ],
   "metadata": {
    "collapsed": false
   }
  },
  {
   "cell_type": "markdown",
   "source": [
    "# 평가데이터 구축\n",
    "학습 중에 사용할 평가데이터를 구축합니다."
   ],
   "metadata": {
    "collapsed": false
   }
  },
  {
   "cell_type": "code",
   "execution_count": 16,
   "outputs": [
    {
     "name": "stderr",
     "output_type": "stream",
     "text": [
      "INFO:ratsnlp:Loading features from cached file data/nsmc/cached_test_BertTokenizer_128_nsmc_document-classification [took 7.239 s]\n",
      "INFO:ratsnlp:Loading features from cached file data/nsmc/cached_test_BertTokenizer_128_nsmc_document-classification [took 6.427 s]\n",
      "INFO:ratsnlp:Loading features from cached file data/nsmc/cached_test_BertTokenizer_128_nsmc_document-classification [took 6.427 s]\n"
     ]
    }
   ],
   "source": [
    "from torch.utils.data import SequentialSampler\n",
    "\n",
    "val_dataset = ClassificationDataset(\n",
    "    args=args,\n",
    "    corpus=corpus,\n",
    "    tokenizer=tokenizer,\n",
    "    mode=\"test\",\n",
    ")\n",
    "val_dataloader = DataLoader(\n",
    "    val_dataset,\n",
    "    batch_size=args.batch_size,\n",
    "    sampler=SequentialSampler(val_dataset),\n",
    "    collate_fn=nlpbook.data_collator,\n",
    "    drop_last=False,\n",
    "    num_workers=args.cpu_workers,\n",
    ")"
   ],
   "metadata": {
    "collapsed": false
   }
  },
  {
   "cell_type": "markdown",
   "source": [
    "# 모델 초기화\n",
    "사전학습 모델을 읽고, 문서 분류를 수행할 모델을 초기화합니다."
   ],
   "metadata": {
    "collapsed": false
   }
  },
  {
   "cell_type": "code",
   "execution_count": 17,
   "outputs": [
    {
     "name": "stderr",
     "output_type": "stream",
     "text": [
      "Some weights of the model checkpoint at model/pretrained/KcBERT-Base were not used when initializing BertForSequenceClassification: ['cls.predictions.decoder.weight', 'cls.seq_relationship.weight', 'cls.predictions.transform.dense.weight', 'cls.predictions.transform.dense.bias', 'cls.predictions.decoder.bias', 'cls.seq_relationship.bias', 'cls.predictions.bias', 'cls.predictions.transform.LayerNorm.weight', 'cls.predictions.transform.LayerNorm.bias']\n",
      "- This IS expected if you are initializing BertForSequenceClassification from the checkpoint of a model trained on another task or with another architecture (e.g. initializing a BertForSequenceClassification model from a BertForPreTraining model).\n",
      "- This IS NOT expected if you are initializing BertForSequenceClassification from the checkpoint of a model that you expect to be exactly identical (initializing a BertForSequenceClassification model from a BertForSequenceClassification model).\n",
      "Some weights of BertForSequenceClassification were not initialized from the model checkpoint at model/pretrained/KcBERT-Base and are newly initialized: ['classifier.bias', 'classifier.weight']\n",
      "You should probably TRAIN this model on a down-stream task to be able to use it for predictions and inference.\n",
      "Some weights of the model checkpoint at model/pretrained/KcBERT-Base were not used when initializing BertForSequenceClassification: ['cls.predictions.decoder.weight', 'cls.seq_relationship.weight', 'cls.predictions.transform.dense.weight', 'cls.predictions.transform.dense.bias', 'cls.predictions.decoder.bias', 'cls.seq_relationship.bias', 'cls.predictions.bias', 'cls.predictions.transform.LayerNorm.weight', 'cls.predictions.transform.LayerNorm.bias']\n",
      "- This IS expected if you are initializing BertForSequenceClassification from the checkpoint of a model trained on another task or with another architecture (e.g. initializing a BertForSequenceClassification model from a BertForPreTraining model).\n",
      "- This IS NOT expected if you are initializing BertForSequenceClassification from the checkpoint of a model that you expect to be exactly identical (initializing a BertForSequenceClassification model from a BertForSequenceClassification model).\n",
      "Some weights of BertForSequenceClassification were not initialized from the model checkpoint at model/pretrained/KcBERT-Base and are newly initialized: ['classifier.bias', 'classifier.weight']\n",
      "You should probably TRAIN this model on a down-stream task to be able to use it for predictions and inference.\n"
     ]
    }
   ],
   "source": [
    "from transformers import BertConfig, BertForSequenceClassification\n",
    "\n",
    "pretrained_model_config = BertConfig.from_pretrained(\n",
    "    args.pretrained_model_path,\n",
    "    num_labels=corpus.num_labels,\n",
    ")\n",
    "model = BertForSequenceClassification.from_pretrained(\n",
    "    args.pretrained_model_path,\n",
    "    config=pretrained_model_config,\n",
    ")"
   ],
   "metadata": {
    "collapsed": false
   }
  },
  {
   "cell_type": "markdown",
   "source": [
    "# 학습 개시\n",
    "준비한 데이터와 모델로 학습을 시작합니다.\n",
    "학습 결과물은 미리 세팅한 위치(`args.downstream_model_path`)에 저장됩니다."
   ],
   "metadata": {
    "collapsed": false
   }
  },
  {
   "cell_type": "code",
   "execution_count": 18,
   "outputs": [
    {
     "name": "stdout",
     "output_type": "stream",
     "text": [
      "\n",
      "=========================================================================================================================================\n",
      "[03.22 04:37:31] [INIT] TRAIN(config=model/finetuned/nsmc-0322_0437/1-doc_cls-train.json)\n",
      "=========================================================================================================================================\n"
     ]
    },
    {
     "name": "stderr",
     "output_type": "stream",
     "text": [
      "GPU available: True (cuda), used: True\n",
      "TPU available: False, using: 0 TPU cores\n",
      "IPU available: False, using: 0 IPUs\n",
      "HPU available: False, using: 0 HPUs\n",
      "Missing logger folder: /data/dlt/proj/DeepKorean-23.03/model/finetuned/nsmc-0322_0437/lightning_logs\n"
     ]
    },
    {
     "name": "stdout",
     "output_type": "stream",
     "text": [
      "/data/dlt/proj/DeepKorean-23.03/lightning/src/lightning/pytorch/callbacks/model_checkpoint.py:612: UserWarning: Checkpoint directory /data/dlt/proj/DeepKorean-23.03/model/finetuned/nsmc-0322_0437 exists and is not empty.\n",
      "  rank_zero_warn(f\"Checkpoint directory {dirpath} exists and is not empty.\")\n"
     ]
    },
    {
     "name": "stderr",
     "output_type": "stream",
     "text": [
      "LOCAL_RANK: 0 - CUDA_VISIBLE_DEVICES: [0]\n",
      "\n",
      "  | Name  | Type                          | Params\n",
      "--------------------------------------------------------\n",
      "0 | model | BertForSequenceClassification | 108 M \n",
      "--------------------------------------------------------\n",
      "108 M     Trainable params\n",
      "0         Non-trainable params\n",
      "108 M     Total params\n",
      "435.680   Total estimated model params size (MB)\n"
     ]
    },
    {
     "data": {
      "text/plain": "Training: 0it [00:00, ?it/s]",
      "application/vnd.jupyter.widget-view+json": {
       "version_major": 2,
       "version_minor": 0,
       "model_id": "f0d7381450214cbdb0298afdf2a3045e"
      }
     },
     "metadata": {},
     "output_type": "display_data"
    },
    {
     "data": {
      "text/plain": "Validation: 0it [00:00, ?it/s]",
      "application/vnd.jupyter.widget-view+json": {
       "version_major": 2,
       "version_minor": 0,
       "model_id": "09e604022c574e7d9035f06c05854ce5"
      }
     },
     "metadata": {},
     "output_type": "display_data"
    },
    {
     "name": "stderr",
     "output_type": "stream",
     "text": [
      "`Trainer.fit` stopped: `max_epochs=1` reached.\n"
     ]
    },
    {
     "name": "stdout",
     "output_type": "stream",
     "text": [
      "=========================================================================================================================================\n",
      "[03.22 04:41:16] [EXIT] TRAIN(config=model/finetuned/nsmc-0322_0437/1-doc_cls-train.json) ($=00:03:44.614)\n",
      "=========================================================================================================================================\n",
      "\n",
      "\n",
      "=========================================================================================================================================\n",
      "[03.22 04:41:49] [INIT] TRAIN(config=model/finetuned/nsmc-0322_0441/1-doc_cls-train.json)\n",
      "=========================================================================================================================================\n"
     ]
    },
    {
     "name": "stderr",
     "output_type": "stream",
     "text": [
      "GPU available: True (cuda), used: True\n",
      "TPU available: False, using: 0 TPU cores\n",
      "IPU available: False, using: 0 IPUs\n",
      "HPU available: False, using: 0 HPUs\n",
      "Missing logger folder: /data/dlt/proj/DeepKorean-23.03/model/finetuned/nsmc-0322_0441/lightning_logs\n",
      "LOCAL_RANK: 0 - CUDA_VISIBLE_DEVICES: [0]\n",
      "\n",
      "  | Name  | Type                          | Params\n",
      "--------------------------------------------------------\n",
      "0 | model | BertForSequenceClassification | 108 M \n",
      "--------------------------------------------------------\n",
      "108 M     Trainable params\n",
      "0         Non-trainable params\n",
      "108 M     Total params\n",
      "435.680   Total estimated model params size (MB)\n"
     ]
    },
    {
     "name": "stdout",
     "output_type": "stream",
     "text": [
      "/data/dlt/proj/DeepKorean-23.03/lightning/src/lightning/pytorch/callbacks/model_checkpoint.py:612: UserWarning: Checkpoint directory /data/dlt/proj/DeepKorean-23.03/model/finetuned/nsmc-0322_0441 exists and is not empty.\n",
      "  rank_zero_warn(f\"Checkpoint directory {dirpath} exists and is not empty.\")\n"
     ]
    },
    {
     "data": {
      "text/plain": "Training: 0it [00:00, ?it/s]",
      "application/vnd.jupyter.widget-view+json": {
       "version_major": 2,
       "version_minor": 0,
       "model_id": "7d6466fc35254b879d68ee072f8df0a8"
      }
     },
     "metadata": {},
     "output_type": "display_data"
    },
    {
     "data": {
      "text/plain": "Validation: 0it [00:00, ?it/s]",
      "application/vnd.jupyter.widget-view+json": {
       "version_major": 2,
       "version_minor": 0,
       "model_id": "91dcab8fde014d6fb3de62db67b793f7"
      }
     },
     "metadata": {},
     "output_type": "display_data"
    },
    {
     "name": "stderr",
     "output_type": "stream",
     "text": [
      "`Trainer.fit` stopped: `max_epochs=1` reached.\n"
     ]
    },
    {
     "name": "stdout",
     "output_type": "stream",
     "text": [
      "=========================================================================================================================================\n",
      "[03.22 04:45:41] [EXIT] TRAIN(config=model/finetuned/nsmc-0322_0441/1-doc_cls-train.json) ($=00:03:50.769)\n",
      "=========================================================================================================================================\n",
      "\n"
     ]
    }
   ],
   "source": [
    "from ratsnlp.nlpbook.classification.task import ClassificationTask\n",
    "from chrisbase.io import JobTimer\n",
    "import torch\n",
    "\n",
    "with JobTimer(f\"TRAIN(config={config})\", mt=1, mb=1, rt=1, rb=1, rc='=', verbose=True, flush_sec=0.3):\n",
    "    torch.set_float32_matmul_precision('high')\n",
    "    nlpbook.get_trainer(args).fit(\n",
    "        ClassificationTask(model, args),\n",
    "        train_dataloaders=train_dataloader,\n",
    "        val_dataloaders=val_dataloader,\n",
    "    )"
   ],
   "metadata": {
    "collapsed": false
   }
  }
 ],
 "metadata": {
  "kernelspec": {
   "display_name": "Python 3",
   "language": "python",
   "name": "python3"
  },
  "language_info": {
   "codemirror_mode": {
    "name": "ipython",
    "version": 2
   },
   "file_extension": ".py",
   "mimetype": "text/x-python",
   "name": "python",
   "nbconvert_exporter": "python",
   "pygments_lexer": "ipython2",
   "version": "2.7.6"
  }
 },
 "nbformat": 4,
 "nbformat_minor": 0
}
